{
 "cells": [
  {
   "cell_type": "code",
   "execution_count": 1,
   "metadata": {},
   "outputs": [],
   "source": [
    "import dask.dataframe as dd \n",
    "import numpy as np\n",
    "from sklearn.preprocessing import LabelEncoder,RobustScaler,StandardScaler\n",
    "import seaborn as sns\n",
    "import featuretools as ft\n",
    "from dask.distributed import Client\n",
    "from sklearn.metrics import f1_score, confusion_matrix, classification_report,accuracy_score,roc_auc_score,recall_score\n",
    "from sklearn.metrics import roc_curve,auc\n",
    "from sklearn.model_selection import train_test_split\n",
    "import matplotlib.pyplot as plt\n",
    "from category_encoders import TargetEncoder\n",
    "from utils import *\n",
    "import warnings\n",
    "warnings.filterwarnings('ignore')"
   ]
  },
  {
   "cell_type": "code",
   "execution_count": 2,
   "metadata": {},
   "outputs": [
    {
     "name": "stdout",
     "output_type": "stream",
     "text": [
      "bureau shape :(1716428,17)\n",
      "bureau_balance shape :(27299925,3)\n",
      "credit_card_balance shape :(3840312,23)\n",
      "installments_payments shape :(13605401,8)\n",
      "previous_application shape :(1670214,37)\n",
      "POS_CASH_balance shape :(10001358,8)\n",
      "application_train shape :(307511,122)\n",
      "application_test shape :(48744,121)\n"
     ]
    }
   ],
   "source": [
    "bureau = dd.read_csv(\"../data/bureau.csv\").compute()\n",
    "a = bureau.shape\n",
    "print(\"bureau shape :({},{})\".format( a[0],a[1]))\n",
    "\n",
    "bureau_balance= dd.read_csv(\"../data/bureau_balance.csv\").compute()\n",
    "a = bureau_balance.shape\n",
    "print(\"bureau_balance shape :({},{})\".format( a[0],a[1]))\n",
    "\n",
    "credit_card_balance= dd.read_csv(\"../data/credit_card_balance.csv\").compute()\n",
    "a = credit_card_balance.shape\n",
    "print(\"credit_card_balance shape :({},{})\".format( a[0],a[1]))\n",
    "\n",
    "installments_payments= dd.read_csv(\"../data/installments_payments.csv\").compute()\n",
    "a = installments_payments.shape\n",
    "print(\"installments_payments shape :({},{})\".format( a[0],a[1]))\n",
    "\n",
    "previous_application= dd.read_csv(\"../data/previous_application.csv\").compute()\n",
    "a = previous_application.shape\n",
    "print(\"previous_application shape :({},{})\".format( a[0],a[1]))\n",
    "\n",
    "POS_CASH_balance= dd.read_csv(\"../data/POS_CASH_balance.csv\").compute()\n",
    "a = POS_CASH_balance.shape\n",
    "print(\"POS_CASH_balance shape :({},{})\".format( a[0],a[1]))\n",
    "\n",
    "application_train= dd.read_csv(\"../data/application_train.csv\").compute()\n",
    "a = application_train.shape\n",
    "print(\"application_train shape :({},{})\".format( a[0],a[1]))\n",
    "\n",
    "application_test= dd.read_csv(\"../data/application_test.csv\").compute()\n",
    "a = application_test.shape\n",
    "print(\"application_test shape :({},{})\".format( a[0],a[1]))"
   ]
  },
  {
   "cell_type": "markdown",
   "metadata": {},
   "source": [
    "<h1>Reduction Memoire</h1>"
   ]
  },
  {
   "cell_type": "code",
   "execution_count": 3,
   "metadata": {},
   "outputs": [
    {
     "name": "stdout",
     "output_type": "stream",
     "text": [
      "Mem. usage decreased to 94.72 Mb (67.2% reduction)\n",
      "Mem. usage decreased to 126.04 Mb (46.5% reduction)\n",
      "Mem. usage decreased to 546.74 Mb (34.4% reduction)\n",
      "Mem. usage decreased to 318.63 Mb (54.7% reduction)\n",
      "Mem. usage decreased to 415.20 Mb (55.6% reduction)\n",
      "Mem. usage decreased to 321.75 Mb (33.6% reduction)\n",
      "Mem. usage decreased to 314.76 Mb (54.2% reduction)\n"
     ]
    }
   ],
   "source": [
    "application_train=reduce_mem_usage(application_train)\n",
    "bureau=reduce_mem_usage(bureau)\n",
    "bureau_balance=reduce_mem_usage(bureau_balance)\n",
    "credit_card_balance=reduce_mem_usage(credit_card_balance)\n",
    "installments_payments=reduce_mem_usage(installments_payments)\n",
    "previous_application=reduce_mem_usage(previous_application)\n",
    "POS_CASH_balance=reduce_mem_usage(POS_CASH_balance)"
   ]
  },
  {
   "cell_type": "markdown",
   "metadata": {},
   "source": [
    "<h1>Suppression outliers\n",
    "</h1>"
   ]
  },
  {
   "cell_type": "code",
   "execution_count": 4,
   "metadata": {},
   "outputs": [],
   "source": [
    "application_train=cleaning_application_train(application_train)\n",
    "bureau=cleaning_bureau(bureau)\n",
    "previous_application=cleaning_previous_application(previous_application)"
   ]
  },
  {
   "cell_type": "markdown",
   "metadata": {},
   "source": [
    "<h1>Feature engineering</h1>"
   ]
  },
  {
   "cell_type": "code",
   "execution_count": 5,
   "metadata": {},
   "outputs": [],
   "source": [
    "application_train=feature_engineering_application_train(application_train)\n",
    "bureau=feature_engineering_bureau(bureau)\n",
    "previous_application=feature_engineering_previous_application(previous_application)\n",
    "POS_CASH_balance=feature_engineering_POS_CASH_balance(POS_CASH_balance)\n",
    "credit_card_balance=feature_engineering_credit_card_balance(credit_card_balance)\n",
    "installments_payments=feature_engineering_installments_payments(installments_payments)\n",
    "bureau_balance=feature_engineering_bureau_balance(bureau_balance)"
   ]
  },
  {
   "cell_type": "markdown",
   "metadata": {},
   "source": [
    "<h1>Jointure des tableaux</h1>"
   ]
  },
  {
   "cell_type": "code",
   "execution_count": 28,
   "metadata": {},
   "outputs": [],
   "source": [
    "es = ft.EntitySet(id=\"application\")\n",
    "es = es.add_dataframe(dataframe_name=\"bureau\",\n",
    "                              dataframe=bureau,\n",
    "                              index=\"SK_ID_BUREAU\")\n",
    "\n",
    "es = es.add_dataframe(dataframe_name=\"bureau_balance\",\n",
    "                              dataframe=bureau_balance,\n",
    "                              index=\"index\")\n",
    "\n",
    "es = es.add_dataframe(dataframe_name=\"application_train\",\n",
    "                              dataframe=application_train,\n",
    "                              index=\"SK_ID_CURR\")\n",
    "\n",
    "es = es.add_dataframe(dataframe_name=\"previous_application\",\n",
    "                              dataframe=previous_application,\n",
    "                              index=\"SK_ID_PREV\")\n",
    "\n",
    "es = es.add_dataframe(dataframe_name=\"pos_cash_balance\",\n",
    "                              dataframe=POS_CASH_balance,\n",
    "                              index=\"index\")  \n",
    "\n",
    "es = es.add_dataframe(dataframe_name=\"installments_payments\",\n",
    "                              dataframe=installments_payments,\n",
    "                              index=\"index\")\n",
    "\n",
    "es = es.add_dataframe(dataframe_name=\"credit_card_balance\",\n",
    "                              dataframe=credit_card_balance,\n",
    "                              index=\"index\")                                                        "
   ]
  },
  {
   "cell_type": "code",
   "execution_count": 29,
   "metadata": {},
   "outputs": [
    {
     "data": {
      "text/plain": [
       "Entityset: application\n",
       "  DataFrames:\n",
       "    bureau [Rows: 1716428, Columns: 18]\n",
       "    bureau_balance [Rows: 27299925, Columns: 4]\n",
       "    application_train [Rows: 307511, Columns: 126]\n",
       "    previous_application [Rows: 1670214, Columns: 38]\n",
       "    pos_cash_balance [Rows: 10001358, Columns: 9]\n",
       "    installments_payments [Rows: 13605401, Columns: 11]\n",
       "    credit_card_balance [Rows: 3840312, Columns: 24]\n",
       "  Relationships:\n",
       "    No relationships"
      ]
     },
     "execution_count": 29,
     "metadata": {},
     "output_type": "execute_result"
    }
   ],
   "source": [
    "es"
   ]
  },
  {
   "cell_type": "code",
   "execution_count": 30,
   "metadata": {},
   "outputs": [],
   "source": [
    "es = es.add_relationship(\"bureau\", \"SK_ID_BUREAU\", \"bureau_balance\", \"SK_ID_BUREAU\")\n",
    "es = es.add_relationship(\"application_train\", \"SK_ID_CURR\", \"bureau\", \"SK_ID_CURR\")\n",
    "es = es.add_relationship(\"application_train\", \"SK_ID_CURR\", \"installments_payments\", \"SK_ID_CURR\")\n",
    "es = es.add_relationship(\"application_train\", \"SK_ID_CURR\", \"credit_card_balance\", \"SK_ID_CURR\")\n",
    "es = es.add_relationship(\"application_train\", \"SK_ID_CURR\", \"pos_cash_balance\", \"SK_ID_CURR\")\n",
    "es = es.add_relationship(\"application_train\", \"SK_ID_CURR\", \"previous_application\", \"SK_ID_CURR\")\n",
    "# es = es.add_relationship(\"previous_application\", \"SK_ID_PREV\", \"installments_payments\", \"SK_ID_PREV\")\n",
    "# es = es.add_relationship(\"previous_application\", \"SK_ID_PREV\", \"credit_card_balance\", \"SK_ID_PREV\")\n",
    "# es = es.add_relationship(\"previous_application\", \"SK_ID_PREV\", \"pos_cash_balance\", \"SK_ID_PREV\")"
   ]
  },
  {
   "cell_type": "code",
   "execution_count": 31,
   "metadata": {},
   "outputs": [
    {
     "data": {
      "text/plain": [
       "Entityset: application\n",
       "  DataFrames:\n",
       "    bureau [Rows: 1716428, Columns: 18]\n",
       "    bureau_balance [Rows: 27299925, Columns: 4]\n",
       "    application_train [Rows: 307511, Columns: 126]\n",
       "    previous_application [Rows: 1670214, Columns: 38]\n",
       "    pos_cash_balance [Rows: 10001358, Columns: 9]\n",
       "    installments_payments [Rows: 13605401, Columns: 11]\n",
       "    credit_card_balance [Rows: 3840312, Columns: 24]\n",
       "  Relationships:\n",
       "    bureau_balance.SK_ID_BUREAU -> bureau.SK_ID_BUREAU\n",
       "    bureau.SK_ID_CURR -> application_train.SK_ID_CURR\n",
       "    installments_payments.SK_ID_CURR -> application_train.SK_ID_CURR\n",
       "    credit_card_balance.SK_ID_CURR -> application_train.SK_ID_CURR\n",
       "    pos_cash_balance.SK_ID_CURR -> application_train.SK_ID_CURR\n",
       "    previous_application.SK_ID_CURR -> application_train.SK_ID_CURR"
      ]
     },
     "execution_count": 31,
     "metadata": {},
     "output_type": "execute_result"
    }
   ],
   "source": [
    "es"
   ]
  },
  {
   "cell_type": "code",
   "execution_count": 32,
   "metadata": {},
   "outputs": [],
   "source": [
    "feature_matrix, feature_defs =  ft.dfs(entityset=es, target_dataframe_name=\"application_train\")"
   ]
  },
  {
   "cell_type": "code",
   "execution_count": 33,
   "metadata": {},
   "outputs": [],
   "source": [
    "feature_matrix.to_csv(\"data.csv\",index=False)"
   ]
  },
  {
   "cell_type": "code",
   "execution_count": 36,
   "metadata": {},
   "outputs": [
    {
     "ename": "NameError",
     "evalue": "name 'feature_matrix' is not defined",
     "output_type": "error",
     "traceback": [
      "\u001b[1;31m---------------------------------------------------------------------------\u001b[0m",
      "\u001b[1;31mNameError\u001b[0m                                 Traceback (most recent call last)",
      "\u001b[1;32m~\\AppData\\Local\\Temp/ipykernel_31812/1254067961.py\u001b[0m in \u001b[0;36m<module>\u001b[1;34m\u001b[0m\n\u001b[1;32m----> 1\u001b[1;33m \u001b[0mfeature_matrix\u001b[0m\u001b[1;33m\u001b[0m\u001b[1;33m\u001b[0m\u001b[0m\n\u001b[0m",
      "\u001b[1;31mNameError\u001b[0m: name 'feature_matrix' is not defined"
     ]
    }
   ],
   "source": [
    "feature_matrix"
   ]
  },
  {
   "cell_type": "code",
   "execution_count": 34,
   "metadata": {},
   "outputs": [],
   "source": [
    "del application_train\n",
    "del application_test\n",
    "del bureau\n",
    "del bureau_balance\n",
    "del credit_card_balance\n",
    "del POS_CASH_balance\n",
    "del previous_application\n",
    "del installments_payments\n",
    "del feature_matrix"
   ]
  },
  {
   "cell_type": "code",
   "execution_count": 24,
   "metadata": {},
   "outputs": [],
   "source": [
    "data=dd.read_csv(\"data.csv\",dtype={'NUM_UNIQUE(pos_cash_balance.NAME_CONTRACT_STATUS)': 'float64',\n",
    "       'NUM_UNIQUE(previous_application.CHANNEL_TYPE)': 'float64',\n",
    "       'NUM_UNIQUE(previous_application.CODE_REJECT_REASON)': 'float64',\n",
    "       'NUM_UNIQUE(previous_application.FLAG_LAST_APPL_PER_CONTRACT)': 'float64',\n",
    "       'NUM_UNIQUE(previous_application.NAME_CASH_LOAN_PURPOSE)': 'float64',\n",
    "       'NUM_UNIQUE(previous_application.NAME_CLIENT_TYPE)': 'float64',\n",
    "       'NUM_UNIQUE(previous_application.NAME_CONTRACT_STATUS)': 'float64',\n",
    "       'NUM_UNIQUE(previous_application.NAME_CONTRACT_TYPE)': 'float64',\n",
    "       'NUM_UNIQUE(previous_application.NAME_GOODS_CATEGORY)': 'float64',\n",
    "       'NUM_UNIQUE(previous_application.NAME_PAYMENT_TYPE)': 'float64',\n",
    "       'NUM_UNIQUE(previous_application.NAME_PORTFOLIO)': 'float64',\n",
    "       'NUM_UNIQUE(previous_application.NAME_PRODUCT_TYPE)': 'float64',\n",
    "       'NUM_UNIQUE(previous_application.NAME_SELLER_INDUSTRY)': 'float64',\n",
    "       'NUM_UNIQUE(previous_application.NAME_TYPE_SUITE)': 'float64',\n",
    "       'NUM_UNIQUE(previous_application.NAME_YIELD_GROUP)': 'float64',\n",
    "       'NUM_UNIQUE(previous_application.PRODUCT_COMBINATION)': 'float64',\n",
    "       'NUM_UNIQUE(previous_application.WEEKDAY_APPR_PROCESS_START)': 'float64'}).compute()"
   ]
  },
  {
   "cell_type": "code",
   "execution_count": 25,
   "metadata": {},
   "outputs": [
    {
     "data": {
      "text/plain": [
       "(307511, 705)"
      ]
     },
     "execution_count": 25,
     "metadata": {},
     "output_type": "execute_result"
    }
   ],
   "source": [
    "data.shape"
   ]
  },
  {
   "cell_type": "code",
   "execution_count": 26,
   "metadata": {},
   "outputs": [],
   "source": [
    "data_copy=data.copy()"
   ]
  },
  {
   "cell_type": "markdown",
   "metadata": {},
   "source": [
    "<h1>Traitements des valeurs manquantes</h1>"
   ]
  },
  {
   "cell_type": "code",
   "execution_count": 27,
   "metadata": {},
   "outputs": [],
   "source": [
    "categorical_features=data.select_dtypes('O').columns\n",
    "numerical_features=data.select_dtypes(exclude=\"O\").columns"
   ]
  },
  {
   "cell_type": "code",
   "execution_count": 28,
   "metadata": {},
   "outputs": [
    {
     "data": {
      "text/plain": [
       "705"
      ]
     },
     "execution_count": 28,
     "metadata": {},
     "output_type": "execute_result"
    }
   ],
   "source": [
    "len(categorical_features)+len(numerical_features)"
   ]
  },
  {
   "cell_type": "code",
   "execution_count": 29,
   "metadata": {},
   "outputs": [],
   "source": [
    "for i in categorical_features:\n",
    "        data_copy[i]=data_copy[i].fillna(data_copy[i].mode()[0]) \n",
    "for i in numerical_features:\n",
    "        if(data_copy[i].mean()==np.nan):\n",
    "            data_copy[i]=data_copy[i].fillna(data_copy[i].mean())\n",
    "        else : \n",
    "            data_copy[i]=data_copy[i].fillna(0)"
   ]
  },
  {
   "cell_type": "code",
   "execution_count": 30,
   "metadata": {},
   "outputs": [
    {
     "data": {
      "text/plain": [
       "0        1\n",
       "1        0\n",
       "2        0\n",
       "3        0\n",
       "4        0\n",
       "        ..\n",
       "16162    0\n",
       "16163    0\n",
       "16164    0\n",
       "16165    1\n",
       "16166    0\n",
       "Name: TARGET, Length: 307511, dtype: int64"
      ]
     },
     "execution_count": 30,
     "metadata": {},
     "output_type": "execute_result"
    }
   ],
   "source": [
    "data_copy[\"TARGET\"]"
   ]
  },
  {
   "cell_type": "code",
   "execution_count": 31,
   "metadata": {},
   "outputs": [],
   "source": [
    "infPos=[]\n",
    "infNeg=[]\n",
    "for i in numerical_features:\n",
    "    if(data_copy[i].max()==np.inf):\n",
    "        infPos.append(i)\n",
    "    elif (data_copy[i].min()==-np.inf):\n",
    "        infNeg.append(i)\n",
    "for i in infPos:\n",
    "    data_copy[i]=data_copy[i].replace(np.inf,np.nan)\n",
    "    data_copy[i]=data_copy[i].replace(np.nan,data_copy[i].max())\n",
    "for i in infNeg:\n",
    "    data_copy[i]=data_copy[i].replace(-np.inf,np.nan)\n",
    "    data_copy[i]=data_copy[i].replace(np.nan,data_copy[i].min())"
   ]
  },
  {
   "cell_type": "code",
   "execution_count": 32,
   "metadata": {},
   "outputs": [
    {
     "data": {
      "text/plain": [
       "0        1\n",
       "1        0\n",
       "2        0\n",
       "3        0\n",
       "4        0\n",
       "        ..\n",
       "16162    0\n",
       "16163    0\n",
       "16164    0\n",
       "16165    1\n",
       "16166    0\n",
       "Name: TARGET, Length: 307511, dtype: int64"
      ]
     },
     "execution_count": 32,
     "metadata": {},
     "output_type": "execute_result"
    }
   ],
   "source": [
    "data_copy[\"TARGET\"]"
   ]
  },
  {
   "cell_type": "code",
   "execution_count": 33,
   "metadata": {},
   "outputs": [],
   "source": [
    "for i in numerical_features:\n",
    "    if(data_copy[i].max()==np.inf):\n",
    "        print(i)\n",
    "    elif (data_copy[i].min()==-np.inf):\n",
    "        print(i)"
   ]
  },
  {
   "cell_type": "markdown",
   "metadata": {},
   "source": [
    "<h1>Encodage</h1>"
   ]
  },
  {
   "cell_type": "code",
   "execution_count": 34,
   "metadata": {},
   "outputs": [],
   "source": [
    "for i in categorical_features:\n",
    "        model=TargetEncoder(cols=[i])\n",
    "        data_copy[i]=model.fit_transform(data_copy[i],data['TARGET'])"
   ]
  },
  {
   "cell_type": "code",
   "execution_count": 35,
   "metadata": {},
   "outputs": [
    {
     "data": {
      "text/plain": [
       "0        1\n",
       "1        0\n",
       "2        0\n",
       "3        0\n",
       "4        0\n",
       "        ..\n",
       "16162    0\n",
       "16163    0\n",
       "16164    0\n",
       "16165    1\n",
       "16166    0\n",
       "Name: TARGET, Length: 307511, dtype: int64"
      ]
     },
     "execution_count": 35,
     "metadata": {},
     "output_type": "execute_result"
    }
   ],
   "source": [
    "data_copy[\"TARGET\"]"
   ]
  },
  {
   "cell_type": "markdown",
   "metadata": {},
   "source": [
    "<h1>Etude correlation</h1>"
   ]
  },
  {
   "cell_type": "code",
   "execution_count": 36,
   "metadata": {},
   "outputs": [],
   "source": [
    "cor_matrix = data_copy.corr().abs()\n",
    "upper_tri = cor_matrix.where(np.triu(np.ones(cor_matrix.shape),k=1).astype(np.bool))\n",
    "to_drop = [column for column in upper_tri.columns if any(upper_tri[column] > 0.95)]\n",
    "data_copy.drop(to_drop,axis=1,inplace=True)"
   ]
  },
  {
   "cell_type": "code",
   "execution_count": 37,
   "metadata": {},
   "outputs": [],
   "source": [
    "X=data_copy.drop(['TARGET'],axis=1)\n",
    "y=data_copy['TARGET']"
   ]
  },
  {
   "cell_type": "markdown",
   "metadata": {},
   "source": [
    "<h1>Selection des colonnes</h1>"
   ]
  },
  {
   "cell_type": "code",
   "execution_count": 38,
   "metadata": {},
   "outputs": [
    {
     "data": {
      "text/plain": [
       "RandomForestClassifier()"
      ]
     },
     "execution_count": 38,
     "metadata": {},
     "output_type": "execute_result"
    }
   ],
   "source": [
    "from sklearn.ensemble import RandomForestClassifier\n",
    "rfc=RandomForestClassifier()\n",
    "rfc.fit(X,y)"
   ]
  },
  {
   "cell_type": "code",
   "execution_count": 39,
   "metadata": {},
   "outputs": [
    {
     "data": {
      "image/png": "[encoded data removed]",
      "text/plain": [
       "<Figure size 1080x576 with 1 Axes>"
      ]
     },
     "metadata": {
      "needs_background": "light"
     },
     "output_type": "display_data"
    }
   ],
   "source": [
    "import pandas as pd\n",
    "import matplotlib.pyplot as plt\n",
    "plt.figure(figsize=(15,8))\n",
    "feature_importance= pd.Series(rfc.feature_importances_, index=data_copy.drop(\"TARGET\",axis=1).columns).sort_values(ascending=False).head(30)\n",
    "feature_importance.plot(kind='bar',align='edge',orientation='vertical')\n",
    "plt.show()"
   ]
  },
  {
   "cell_type": "code",
   "execution_count": 40,
   "metadata": {},
   "outputs": [],
   "source": [
    "t=round(len(rfc.feature_importances_)*0.8)\n",
    "keys= pd.Series(rfc.feature_importances_, index=data_copy.drop(\"TARGET\",axis=1).columns).sort_values(ascending=False).head(t).keys()"
   ]
  },
  {
   "cell_type": "code",
   "execution_count": 46,
   "metadata": {},
   "outputs": [],
   "source": [
    "data_copy=data_copy[keys]\n",
    "data_copy[\"TARGET\"]=y\n",
    "data_copy.to_csv(\"data_clean.csv\",index=False)"
   ]
  },
  {
   "cell_type": "code",
   "execution_count": 49,
   "metadata": {},
   "outputs": [],
   "source": [
    "del data\n",
    "del data_copy\n",
    "del X \n",
    "del y"
   ]
  }
 ],
 "metadata": {
  "kernelspec": {
   "display_name": "Python 3.9.9 64-bit",
   "language": "python",
   "name": "python3"
  },
  "language_info": {
   "codemirror_mode": {
    "name": "ipython",
    "version": 3
   },
   "file_extension": ".py",
   "mimetype": "text/x-python",
   "name": "python",
   "nbconvert_exporter": "python",
   "pygments_lexer": "ipython3",
   "version": "3.9.9"
  },
  "orig_nbformat": 4,
  "vscode": {
   "interpreter": {
    "hash": "4967e6ae66cdbca97a956efb29231a0cc91c8b76a2ce84b79640903ac8236afa"
   }
  }
 },
 "nbformat": 4,
 "nbformat_minor": 2
}
