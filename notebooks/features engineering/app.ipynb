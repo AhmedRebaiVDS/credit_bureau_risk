{
 "cells": [
  {
   "cell_type": "code",
   "execution_count": 59,
   "metadata": {},
   "outputs": [],
   "source": [
    "import dask.dataframe as dd \n",
    "import numpy as np\n",
    "from sklearn.preprocessing import LabelEncoder,RobustScaler\n",
    "import seaborn as sns\n",
    "import featuretools as ft\n",
    "from dask.distributed import Client\n",
    "from sklearn.metrics import f1_score, confusion_matrix, classification_report,accuracy_score,roc_auc_score\n",
    "from sklearn.metrics import roc_curve,auc\n",
    "from sklearn.model_selection import train_test_split\n",
    "import matplotlib.pyplot as plt\n",
    "from utils import *\n",
    "import warnings\n",
    "warnings.filterwarnings('ignore')"
   ]
  },
  {
   "cell_type": "code",
   "execution_count": 2,
   "metadata": {},
   "outputs": [
    {
     "name": "stdout",
     "output_type": "stream",
     "text": [
      "bureau shape :(1716428,17)\n",
      "bureau_balance shape :(27299925,3)\n",
      "credit_card_balance shape :(3840312,23)\n",
      "installments_payments shape :(13605401,8)\n",
      "previous_application shape :(1670214,37)\n",
      "POS_CASH_balance shape :(10001358,8)\n",
      "application_train shape :(307511,122)\n",
      "application_test shape :(48744,121)\n"
     ]
    }
   ],
   "source": [
    "bureau = dd.read_csv(\"../data/bureau.csv\").compute()\n",
    "a = bureau.shape\n",
    "print(\"bureau shape :({},{})\".format( a[0],a[1]))\n",
    "\n",
    "bureau_balance= dd.read_csv(\"../data/bureau_balance.csv\").compute()\n",
    "a = bureau_balance.shape\n",
    "print(\"bureau_balance shape :({},{})\".format( a[0],a[1]))\n",
    "\n",
    "credit_card_balance= dd.read_csv(\"../data/credit_card_balance.csv\").compute()\n",
    "a = credit_card_balance.shape\n",
    "print(\"credit_card_balance shape :({},{})\".format( a[0],a[1]))\n",
    "\n",
    "installments_payments= dd.read_csv(\"../data/installments_payments.csv\").compute()\n",
    "a = installments_payments.shape\n",
    "print(\"installments_payments shape :({},{})\".format( a[0],a[1]))\n",
    "\n",
    "previous_application= dd.read_csv(\"../data/previous_application.csv\").compute()\n",
    "a = previous_application.shape\n",
    "print(\"previous_application shape :({},{})\".format( a[0],a[1]))\n",
    "\n",
    "POS_CASH_balance= dd.read_csv(\"../data/POS_CASH_balance.csv\").compute()\n",
    "a = POS_CASH_balance.shape\n",
    "print(\"POS_CASH_balance shape :({},{})\".format( a[0],a[1]))\n",
    "\n",
    "application_train= dd.read_csv(\"../data/application_train.csv\").compute()\n",
    "a = application_train.shape\n",
    "print(\"application_train shape :({},{})\".format( a[0],a[1]))\n",
    "\n",
    "application_test= dd.read_csv(\"../data/application_test.csv\").compute()\n",
    "a = application_test.shape\n",
    "print(\"application_test shape :({},{})\".format( a[0],a[1]))"
   ]
  },
  {
   "cell_type": "markdown",
   "metadata": {},
   "source": [
    "* Preprocessing"
   ]
  },
  {
   "cell_type": "code",
   "execution_count": 3,
   "metadata": {},
   "outputs": [],
   "source": [
    "bureau_balance[\"MONTHS_BALANCE\"]=np.abs(bureau_balance[\"MONTHS_BALANCE\"])\n",
    "bureau_balance['STATUS']=bureau_balance['STATUS'].apply(lambda x: 'Y' if x in ['5', '1', '4', '3','0', '2'] else x)\n",
    "# bureau_balance=dd.get_dummies(bureau_balance,columns=['STATUS'],drop_first=True)"
   ]
  },
  {
   "cell_type": "code",
   "execution_count": 4,
   "metadata": {},
   "outputs": [
    {
     "name": "stdout",
     "output_type": "stream",
     "text": [
      "Mem. usage decreased to 546.74 Mb (34.4% reduction)\n"
     ]
    }
   ],
   "source": [
    "bureau_balance=reduce_mem_usage(bureau_balance)"
   ]
  },
  {
   "cell_type": "code",
   "execution_count": 5,
   "metadata": {},
   "outputs": [],
   "source": [
    "bureau[bureau['DAYS_ENDDATE_FACT']<-40000]['DAYS_ENDDATE_FACT']=np.nan\n",
    "bureau[bureau['DAYS_CREDIT_UPDATE']<-40000]['DAYS_CREDIT_UPDATE']=np.nan\n",
    "bureau[bureau['AMT_CREDIT_MAX_OVERDUE']>.8e8]['AMT_CREDIT_MAX_OVERDUE']=np.nan\n",
    "bureau[bureau['AMT_CREDIT_SUM']>5e8]['AMT_CREDIT_SUM']=np.nan\n",
    "bureau[bureau['AMT_CREDIT_SUM_DEBT']>1.5e8]['AMT_CREDIT_SUM_DEBT']=np.nan \n",
    "bureau[bureau['AMT_CREDIT_SUM_OVERDUE']>3.5e5]['AMT_CREDIT_SUM_OVERDUE']=np.nan \n",
    "bureau[bureau['AMT_ANNUITY']>1e8]['AMT_ANNUITY']=np.nan"
   ]
  },
  {
   "cell_type": "code",
   "execution_count": 6,
   "metadata": {},
   "outputs": [],
   "source": [
    "bureau.fillna(0,inplace=True)"
   ]
  },
  {
   "cell_type": "code",
   "execution_count": 7,
   "metadata": {},
   "outputs": [],
   "source": [
    "# bureau=dd.get_dummies(bureau,drop_first=True)"
   ]
  },
  {
   "cell_type": "code",
   "execution_count": 8,
   "metadata": {},
   "outputs": [
    {
     "name": "stdout",
     "output_type": "stream",
     "text": [
      "Mem. usage decreased to 126.04 Mb (46.5% reduction)\n"
     ]
    }
   ],
   "source": [
    "bureau=reduce_mem_usage(bureau)"
   ]
  },
  {
   "cell_type": "code",
   "execution_count": 9,
   "metadata": {},
   "outputs": [
    {
     "name": "stdout",
     "output_type": "stream",
     "text": [
      "Mem. usage decreased to 94.72 Mb (67.2% reduction)\n"
     ]
    }
   ],
   "source": [
    "application_train=cleaning(application_train)\n",
    "# application_train=dd.get_dummies(application_train,drop_first=True)"
   ]
  },
  {
   "cell_type": "code",
   "execution_count": 10,
   "metadata": {},
   "outputs": [],
   "source": [
    "POS_CASH_balance['MONTHS_BALANCE']=np.abs(POS_CASH_balance['MONTHS_BALANCE'])\n",
    "POS_CASH_balance['SK_DPD'] = POS_CASH_balance['SK_DPD'].apply( lambda x: 1 if x>0 else 0)"
   ]
  },
  {
   "cell_type": "code",
   "execution_count": 11,
   "metadata": {},
   "outputs": [
    {
     "name": "stdout",
     "output_type": "stream",
     "text": [
      "Mem. usage decreased to 305.22 Mb (55.6% reduction)\n"
     ]
    }
   ],
   "source": [
    "POS_CASH_balance.fillna(0,inplace=True)\n",
    "# POS_CASH_balance=dd.get_dummies(POS_CASH_balance,drop_first=True)\n",
    "POS_CASH_balance=reduce_mem_usage(POS_CASH_balance)"
   ]
  },
  {
   "cell_type": "code",
   "execution_count": 12,
   "metadata": {},
   "outputs": [],
   "source": [
    "credit_card_balance['MONTHS_BALANCE']=np.abs(credit_card_balance['MONTHS_BALANCE'])\n",
    "credit_card_balance['SK_DPD'] = credit_card_balance['SK_DPD'].apply( lambda x: 1 if x>0 else 0)\n",
    "credit_card_balance.fillna(0,inplace=True)"
   ]
  },
  {
   "cell_type": "code",
   "execution_count": 13,
   "metadata": {},
   "outputs": [
    {
     "name": "stdout",
     "output_type": "stream",
     "text": [
      "Mem. usage decreased to 314.97 Mb (55.2% reduction)\n"
     ]
    }
   ],
   "source": [
    "# credit_card_balance=dd.get_dummies(credit_card_balance,drop_first=True)\n",
    "credit_card_balance=reduce_mem_usage(credit_card_balance)"
   ]
  },
  {
   "cell_type": "code",
   "execution_count": 14,
   "metadata": {},
   "outputs": [],
   "source": [
    "installments_payments['LATE_PAYMENT_FLAG'] = (installments_payments['DAYS_ENTRY_PAYMENT'] - installments_payments['DAYS_INSTALMENT']).apply(lambda x: 1 if x>0 else 0)\n",
    "installments_payments['LESS_PAYMENT_FLAG'] = (installments_payments['AMT_PAYMENT'] - installments_payments['AMT_INSTALMENT']).apply(lambda x: 1 if x>0 else 0)"
   ]
  },
  {
   "cell_type": "code",
   "execution_count": 15,
   "metadata": {},
   "outputs": [
    {
     "name": "stdout",
     "output_type": "stream",
     "text": [
      "Mem. usage decreased to 441.15 Mb (61.4% reduction)\n"
     ]
    }
   ],
   "source": [
    "installments_payments.fillna(0,inplace=True)\n",
    "installments_payments=reduce_mem_usage(installments_payments)"
   ]
  },
  {
   "cell_type": "code",
   "execution_count": 16,
   "metadata": {},
   "outputs": [],
   "source": [
    "previous_application['DAYS_FIRST_DRAWING'][previous_application['DAYS_FIRST_DRAWING'] == 365243.0] = np.nan\n",
    "previous_application['DAYS_FIRST_DUE'][previous_application['DAYS_FIRST_DUE'] == 365243.0] = np.nan\n",
    "previous_application['DAYS_LAST_DUE_1ST_VERSION'][previous_application['DAYS_LAST_DUE_1ST_VERSION'] == 365243.0] = np.nan\n",
    "previous_application['DAYS_LAST_DUE'][previous_application['DAYS_LAST_DUE'] == 365243.0] = np.nan\n",
    "previous_application['DAYS_TERMINATION'][previous_application['DAYS_TERMINATION'] == 365243.0] = np.nan\n",
    "previous_application['AMT_APPLICATION'][previous_application['AMT_APPLICATION'] > 5e6] = np.nan"
   ]
  },
  {
   "cell_type": "code",
   "execution_count": 17,
   "metadata": {},
   "outputs": [],
   "source": [
    "categorical=previous_application.select_dtypes('object').columns\n",
    "numeric=previous_application.select_dtypes('number').columns"
   ]
  },
  {
   "cell_type": "code",
   "execution_count": 18,
   "metadata": {},
   "outputs": [],
   "source": [
    "for i in categorical:\n",
    "    previous_application[i]=previous_application[i].fillna(previous_application[i].mode()[0]) "
   ]
  },
  {
   "cell_type": "code",
   "execution_count": 19,
   "metadata": {},
   "outputs": [],
   "source": [
    "for i in numeric:\n",
    "    if(previous_application[i].mean()==np.nan):\n",
    "        previous_application[i]=previous_application[i].fillna(previous_application[i].mean())\n",
    "    else : \n",
    "        previous_application[i]=previous_application[i].fillna(0)"
   ]
  },
  {
   "cell_type": "code",
   "execution_count": 20,
   "metadata": {},
   "outputs": [
    {
     "name": "stdout",
     "output_type": "stream",
     "text": [
      "Mem. usage decreased to 305.83 Mb (36.8% reduction)\n"
     ]
    }
   ],
   "source": [
    "# previous_application=dd.get_dummies(previous_application,drop_first=True)\n",
    "previous_application=reduce_mem_usage(previous_application)"
   ]
  },
  {
   "cell_type": "markdown",
   "metadata": {},
   "source": [
    "* Features Tools"
   ]
  },
  {
   "cell_type": "code",
   "execution_count": 21,
   "metadata": {},
   "outputs": [],
   "source": [
    "es = ft.EntitySet(id=\"application\")"
   ]
  },
  {
   "cell_type": "code",
   "execution_count": 22,
   "metadata": {},
   "outputs": [],
   "source": [
    "es = es.add_dataframe(dataframe_name=\"bureau\",\n",
    "                              dataframe=bureau,\n",
    "                              index=\"SK_ID_BUREAU\" )"
   ]
  },
  {
   "cell_type": "code",
   "execution_count": 23,
   "metadata": {},
   "outputs": [],
   "source": [
    "es = es.add_dataframe(dataframe_name=\"bureau_balance\",\n",
    "                              dataframe=bureau_balance,\n",
    "                              index=\"index\")"
   ]
  },
  {
   "cell_type": "code",
   "execution_count": 24,
   "metadata": {},
   "outputs": [],
   "source": [
    "es = es.add_dataframe(dataframe_name=\"application_train\",\n",
    "                              dataframe=application_train,\n",
    "                              index=\"SK_ID_CURR\")"
   ]
  },
  {
   "cell_type": "code",
   "execution_count": 25,
   "metadata": {},
   "outputs": [],
   "source": [
    "es = es.add_dataframe(dataframe_name=\"previous_application\",\n",
    "                              dataframe=previous_application,\n",
    "                              index=\"index\")"
   ]
  },
  {
   "cell_type": "code",
   "execution_count": 26,
   "metadata": {},
   "outputs": [],
   "source": [
    "es = es.add_dataframe(dataframe_name=\"pos_cash_balance\",\n",
    "                              dataframe=POS_CASH_balance,\n",
    "                              index=\"index\")"
   ]
  },
  {
   "cell_type": "code",
   "execution_count": 27,
   "metadata": {},
   "outputs": [],
   "source": [
    "es = es.add_dataframe(dataframe_name=\"installments_payments\",\n",
    "                              dataframe=installments_payments,\n",
    "                              index=\"index\")"
   ]
  },
  {
   "cell_type": "code",
   "execution_count": 28,
   "metadata": {},
   "outputs": [],
   "source": [
    "es = es.add_dataframe(dataframe_name=\"credit_card_balance\",\n",
    "                              dataframe=credit_card_balance,\n",
    "                              index=\"index\")"
   ]
  },
  {
   "cell_type": "code",
   "execution_count": 29,
   "metadata": {},
   "outputs": [],
   "source": [
    "es = es.add_relationship(\"bureau\", \"SK_ID_BUREAU\", \"bureau_balance\", \"SK_ID_BUREAU\")"
   ]
  },
  {
   "cell_type": "code",
   "execution_count": 30,
   "metadata": {},
   "outputs": [],
   "source": [
    "es = es.add_relationship(\"application_train\", \"SK_ID_CURR\", \"bureau\", \"SK_ID_CURR\")"
   ]
  },
  {
   "cell_type": "code",
   "execution_count": 31,
   "metadata": {},
   "outputs": [],
   "source": [
    "es = es.add_relationship(\"application_train\", \"SK_ID_CURR\", \"installments_payments\", \"SK_ID_CURR\")"
   ]
  },
  {
   "cell_type": "code",
   "execution_count": 32,
   "metadata": {},
   "outputs": [],
   "source": [
    "es = es.add_relationship(\"application_train\", \"SK_ID_CURR\", \"credit_card_balance\", \"SK_ID_CURR\")"
   ]
  },
  {
   "cell_type": "code",
   "execution_count": 33,
   "metadata": {},
   "outputs": [],
   "source": [
    "es = es.add_relationship(\"application_train\", \"SK_ID_CURR\", \"pos_cash_balance\", \"SK_ID_CURR\")"
   ]
  },
  {
   "cell_type": "code",
   "execution_count": 34,
   "metadata": {},
   "outputs": [],
   "source": [
    "es = es.add_relationship(\"application_train\", \"SK_ID_CURR\", \"previous_application\", \"SK_ID_CURR\")"
   ]
  },
  {
   "cell_type": "code",
   "execution_count": 35,
   "metadata": {},
   "outputs": [
    {
     "data": {
      "image/svg+xml": "<?xml version=\"1.0\" encoding=\"UTF-8\" standalone=\"no\"?>\n<!DOCTYPE svg PUBLIC \"-//W3C//DTD SVG 1.1//EN\"\n \"http://www.w3.org/Graphics/SVG/1.1/DTD/svg11.dtd\">\n<!-- Generated by graphviz version 3.0.0 (20220226.1711)\n -->\n<!-- Title: application Pages: 1 -->\n<svg width=\"1530pt\" height=\"2591pt\"\n viewBox=\"0.00 0.00 1529.50 2591.00\" xmlns=\"http://www.w3.org/2000/svg\" xmlns:xlink=\"http://www.w3.org/1999/xlink\">\n<g id=\"graph0\" class=\"graph\" transform=\"scale(1 1) rotate(0) translate(4 2587)\">\n<title>application</title>\n<polygon fill=\"white\" stroke=\"transparent\" points=\"-4,4 -4,-2587 1525.5,-2587 1525.5,4 -4,4\"/>\n<!-- bureau -->\n<g id=\"node1\" class=\"node\">\n<title>bureau</title>\n<polygon fill=\"none\" stroke=\"black\" points=\"1252.5,-2011 1252.5,-2297 1521.5,-2297 1521.5,-2011 1252.5,-2011\"/>\n<text text-anchor=\"middle\" x=\"1387\" y=\"-2281.8\" font-family=\"Times New Roman,serif\" font-size=\"14.00\">bureau (1716428 rows)</text>\n<polyline fill=\"none\" stroke=\"black\" points=\"1252.5,-2274 1521.5,-2274 \"/>\n<text text-anchor=\"start\" x=\"1260.5\" y=\"-2258.8\" font-family=\"Times New Roman,serif\" font-size=\"14.00\">SK_ID_CURR : Integer; foreign_key</text>\n<text text-anchor=\"start\" x=\"1260.5\" y=\"-2243.8\" font-family=\"Times New Roman,serif\" font-size=\"14.00\">SK_ID_BUREAU : Integer; index</text>\n<text text-anchor=\"start\" x=\"1260.5\" y=\"-2228.8\" font-family=\"Times New Roman,serif\" font-size=\"14.00\">CREDIT_ACTIVE : Categorical</text>\n<text text-anchor=\"start\" x=\"1260.5\" y=\"-2213.8\" font-family=\"Times New Roman,serif\" font-size=\"14.00\">CREDIT_CURRENCY : Categorical</text>\n<text text-anchor=\"start\" x=\"1260.5\" y=\"-2198.8\" font-family=\"Times New Roman,serif\" font-size=\"14.00\">DAYS_CREDIT : Integer</text>\n<text text-anchor=\"start\" x=\"1260.5\" y=\"-2183.8\" font-family=\"Times New Roman,serif\" font-size=\"14.00\">CREDIT_DAY_OVERDUE : Integer</text>\n<text text-anchor=\"start\" x=\"1260.5\" y=\"-2168.8\" font-family=\"Times New Roman,serif\" font-size=\"14.00\">DAYS_CREDIT_ENDDATE : Double</text>\n<text text-anchor=\"start\" x=\"1260.5\" y=\"-2153.8\" font-family=\"Times New Roman,serif\" font-size=\"14.00\">DAYS_ENDDATE_FACT : Double</text>\n<text text-anchor=\"start\" x=\"1260.5\" y=\"-2138.8\" font-family=\"Times New Roman,serif\" font-size=\"14.00\">AMT_CREDIT_MAX_OVERDUE : Double</text>\n<text text-anchor=\"start\" x=\"1260.5\" y=\"-2123.8\" font-family=\"Times New Roman,serif\" font-size=\"14.00\">CNT_CREDIT_PROLONG : Integer</text>\n<text text-anchor=\"start\" x=\"1260.5\" y=\"-2108.8\" font-family=\"Times New Roman,serif\" font-size=\"14.00\">AMT_CREDIT_SUM : Double</text>\n<text text-anchor=\"start\" x=\"1260.5\" y=\"-2093.8\" font-family=\"Times New Roman,serif\" font-size=\"14.00\">AMT_CREDIT_SUM_DEBT : Double</text>\n<text text-anchor=\"start\" x=\"1260.5\" y=\"-2078.8\" font-family=\"Times New Roman,serif\" font-size=\"14.00\">AMT_CREDIT_SUM_LIMIT : Double</text>\n<text text-anchor=\"start\" x=\"1260.5\" y=\"-2063.8\" font-family=\"Times New Roman,serif\" font-size=\"14.00\">AMT_CREDIT_SUM_OVERDUE : Double</text>\n<text text-anchor=\"start\" x=\"1260.5\" y=\"-2048.8\" font-family=\"Times New Roman,serif\" font-size=\"14.00\">CREDIT_TYPE : Categorical</text>\n<text text-anchor=\"start\" x=\"1260.5\" y=\"-2033.8\" font-family=\"Times New Roman,serif\" font-size=\"14.00\">DAYS_CREDIT_UPDATE : Integer</text>\n<text text-anchor=\"start\" x=\"1260.5\" y=\"-2018.8\" font-family=\"Times New Roman,serif\" font-size=\"14.00\">AMT_ANNUITY : Double</text>\n</g>\n<!-- application_train -->\n<g id=\"node3\" class=\"node\">\n<title>application_train</title>\n<polygon fill=\"none\" stroke=\"black\" points=\"611,-0.5 611,-1816.5 937,-1816.5 937,-0.5 611,-0.5\"/>\n<text text-anchor=\"middle\" x=\"774\" y=\"-1801.3\" font-family=\"Times New Roman,serif\" font-size=\"14.00\">application_train (307511 rows)</text>\n<polyline fill=\"none\" stroke=\"black\" points=\"611,-1793.5 937,-1793.5 \"/>\n<text text-anchor=\"start\" x=\"619\" y=\"-1778.3\" font-family=\"Times New Roman,serif\" font-size=\"14.00\">SK_ID_CURR : Integer; index</text>\n<text text-anchor=\"start\" x=\"619\" y=\"-1763.3\" font-family=\"Times New Roman,serif\" font-size=\"14.00\">TARGET : Integer</text>\n<text text-anchor=\"start\" x=\"619\" y=\"-1748.3\" font-family=\"Times New Roman,serif\" font-size=\"14.00\">NAME_CONTRACT_TYPE : Categorical</text>\n<text text-anchor=\"start\" x=\"619\" y=\"-1733.3\" font-family=\"Times New Roman,serif\" font-size=\"14.00\">FLAG_OWN_CAR : Categorical</text>\n<text text-anchor=\"start\" x=\"619\" y=\"-1718.3\" font-family=\"Times New Roman,serif\" font-size=\"14.00\">FLAG_OWN_REALTY : Categorical</text>\n<text text-anchor=\"start\" x=\"619\" y=\"-1703.3\" font-family=\"Times New Roman,serif\" font-size=\"14.00\">CNT_CHILDREN : Integer</text>\n<text text-anchor=\"start\" x=\"619\" y=\"-1688.3\" font-family=\"Times New Roman,serif\" font-size=\"14.00\">AMT_INCOME_TOTAL : Double</text>\n<text text-anchor=\"start\" x=\"619\" y=\"-1673.3\" font-family=\"Times New Roman,serif\" font-size=\"14.00\">AMT_CREDIT : Double</text>\n<text text-anchor=\"start\" x=\"619\" y=\"-1658.3\" font-family=\"Times New Roman,serif\" font-size=\"14.00\">AMT_ANNUITY : Double</text>\n<text text-anchor=\"start\" x=\"619\" y=\"-1643.3\" font-family=\"Times New Roman,serif\" font-size=\"14.00\">AMT_GOODS_PRICE : Double</text>\n<text text-anchor=\"start\" x=\"619\" y=\"-1628.3\" font-family=\"Times New Roman,serif\" font-size=\"14.00\">NAME_TYPE_SUITE : Categorical</text>\n<text text-anchor=\"start\" x=\"619\" y=\"-1613.3\" font-family=\"Times New Roman,serif\" font-size=\"14.00\">NAME_INCOME_TYPE : Categorical</text>\n<text text-anchor=\"start\" x=\"619\" y=\"-1598.3\" font-family=\"Times New Roman,serif\" font-size=\"14.00\">NAME_EDUCATION_TYPE : Categorical</text>\n<text text-anchor=\"start\" x=\"619\" y=\"-1583.3\" font-family=\"Times New Roman,serif\" font-size=\"14.00\">NAME_FAMILY_STATUS : Categorical</text>\n<text text-anchor=\"start\" x=\"619\" y=\"-1568.3\" font-family=\"Times New Roman,serif\" font-size=\"14.00\">NAME_HOUSING_TYPE : Categorical</text>\n<text text-anchor=\"start\" x=\"619\" y=\"-1553.3\" font-family=\"Times New Roman,serif\" font-size=\"14.00\">REGION_POPULATION_RELATIVE : Double</text>\n<text text-anchor=\"start\" x=\"619\" y=\"-1538.3\" font-family=\"Times New Roman,serif\" font-size=\"14.00\">DAYS_BIRTH : Double</text>\n<text text-anchor=\"start\" x=\"619\" y=\"-1523.3\" font-family=\"Times New Roman,serif\" font-size=\"14.00\">DAYS_EMPLOYED : Double</text>\n<text text-anchor=\"start\" x=\"619\" y=\"-1508.3\" font-family=\"Times New Roman,serif\" font-size=\"14.00\">DAYS_REGISTRATION : Double</text>\n<text text-anchor=\"start\" x=\"619\" y=\"-1493.3\" font-family=\"Times New Roman,serif\" font-size=\"14.00\">DAYS_ID_PUBLISH : Integer</text>\n<text text-anchor=\"start\" x=\"619\" y=\"-1478.3\" font-family=\"Times New Roman,serif\" font-size=\"14.00\">OWN_CAR_AGE : Double</text>\n<text text-anchor=\"start\" x=\"619\" y=\"-1463.3\" font-family=\"Times New Roman,serif\" font-size=\"14.00\">FLAG_MOBIL : Integer</text>\n<text text-anchor=\"start\" x=\"619\" y=\"-1448.3\" font-family=\"Times New Roman,serif\" font-size=\"14.00\">FLAG_EMP_PHONE : Integer</text>\n<text text-anchor=\"start\" x=\"619\" y=\"-1433.3\" font-family=\"Times New Roman,serif\" font-size=\"14.00\">FLAG_WORK_PHONE : Integer</text>\n<text text-anchor=\"start\" x=\"619\" y=\"-1418.3\" font-family=\"Times New Roman,serif\" font-size=\"14.00\">FLAG_CONT_MOBILE : Integer</text>\n<text text-anchor=\"start\" x=\"619\" y=\"-1403.3\" font-family=\"Times New Roman,serif\" font-size=\"14.00\">FLAG_PHONE : Integer</text>\n<text text-anchor=\"start\" x=\"619\" y=\"-1388.3\" font-family=\"Times New Roman,serif\" font-size=\"14.00\">FLAG_EMAIL : Integer</text>\n<text text-anchor=\"start\" x=\"619\" y=\"-1373.3\" font-family=\"Times New Roman,serif\" font-size=\"14.00\">OCCUPATION_TYPE : Categorical</text>\n<text text-anchor=\"start\" x=\"619\" y=\"-1358.3\" font-family=\"Times New Roman,serif\" font-size=\"14.00\">CNT_FAM_MEMBERS : Double</text>\n<text text-anchor=\"start\" x=\"619\" y=\"-1343.3\" font-family=\"Times New Roman,serif\" font-size=\"14.00\">REGION_RATING_CLIENT : Integer</text>\n<text text-anchor=\"start\" x=\"619\" y=\"-1328.3\" font-family=\"Times New Roman,serif\" font-size=\"14.00\">REGION_RATING_CLIENT_W_CITY : Integer</text>\n<text text-anchor=\"start\" x=\"619\" y=\"-1313.3\" font-family=\"Times New Roman,serif\" font-size=\"14.00\">WEEKDAY_APPR_PROCESS_START : Categorical</text>\n<text text-anchor=\"start\" x=\"619\" y=\"-1298.3\" font-family=\"Times New Roman,serif\" font-size=\"14.00\">HOUR_APPR_PROCESS_START : Integer</text>\n<text text-anchor=\"start\" x=\"619\" y=\"-1283.3\" font-family=\"Times New Roman,serif\" font-size=\"14.00\">REG_REGION_NOT_LIVE_REGION : Integer</text>\n<text text-anchor=\"start\" x=\"619\" y=\"-1268.3\" font-family=\"Times New Roman,serif\" font-size=\"14.00\">REG_REGION_NOT_WORK_REGION : Integer</text>\n<text text-anchor=\"start\" x=\"619\" y=\"-1253.3\" font-family=\"Times New Roman,serif\" font-size=\"14.00\">LIVE_REGION_NOT_WORK_REGION : Integer</text>\n<text text-anchor=\"start\" x=\"619\" y=\"-1238.3\" font-family=\"Times New Roman,serif\" font-size=\"14.00\">REG_CITY_NOT_LIVE_CITY : Integer</text>\n<text text-anchor=\"start\" x=\"619\" y=\"-1223.3\" font-family=\"Times New Roman,serif\" font-size=\"14.00\">REG_CITY_NOT_WORK_CITY : Integer</text>\n<text text-anchor=\"start\" x=\"619\" y=\"-1208.3\" font-family=\"Times New Roman,serif\" font-size=\"14.00\">LIVE_CITY_NOT_WORK_CITY : Integer</text>\n<text text-anchor=\"start\" x=\"619\" y=\"-1193.3\" font-family=\"Times New Roman,serif\" font-size=\"14.00\">ORGANIZATION_TYPE : Categorical</text>\n<text text-anchor=\"start\" x=\"619\" y=\"-1178.3\" font-family=\"Times New Roman,serif\" font-size=\"14.00\">APARTMENTS_AVG : Double</text>\n<text text-anchor=\"start\" x=\"619\" y=\"-1163.3\" font-family=\"Times New Roman,serif\" font-size=\"14.00\">BASEMENTAREA_AVG : Double</text>\n<text text-anchor=\"start\" x=\"619\" y=\"-1148.3\" font-family=\"Times New Roman,serif\" font-size=\"14.00\">YEARS_BEGINEXPLUATATION_AVG : Double</text>\n<text text-anchor=\"start\" x=\"619\" y=\"-1133.3\" font-family=\"Times New Roman,serif\" font-size=\"14.00\">YEARS_BUILD_AVG : Double</text>\n<text text-anchor=\"start\" x=\"619\" y=\"-1118.3\" font-family=\"Times New Roman,serif\" font-size=\"14.00\">COMMONAREA_AVG : Double</text>\n<text text-anchor=\"start\" x=\"619\" y=\"-1103.3\" font-family=\"Times New Roman,serif\" font-size=\"14.00\">ELEVATORS_AVG : Double</text>\n<text text-anchor=\"start\" x=\"619\" y=\"-1088.3\" font-family=\"Times New Roman,serif\" font-size=\"14.00\">ENTRANCES_AVG : Double</text>\n<text text-anchor=\"start\" x=\"619\" y=\"-1073.3\" font-family=\"Times New Roman,serif\" font-size=\"14.00\">FLOORSMAX_AVG : Double</text>\n<text text-anchor=\"start\" x=\"619\" y=\"-1058.3\" font-family=\"Times New Roman,serif\" font-size=\"14.00\">FLOORSMIN_AVG : Double</text>\n<text text-anchor=\"start\" x=\"619\" y=\"-1043.3\" font-family=\"Times New Roman,serif\" font-size=\"14.00\">LANDAREA_AVG : Double</text>\n<text text-anchor=\"start\" x=\"619\" y=\"-1028.3\" font-family=\"Times New Roman,serif\" font-size=\"14.00\">LIVINGAPARTMENTS_AVG : Double</text>\n<text text-anchor=\"start\" x=\"619\" y=\"-1013.3\" font-family=\"Times New Roman,serif\" font-size=\"14.00\">LIVINGAREA_AVG : Double</text>\n<text text-anchor=\"start\" x=\"619\" y=\"-998.3\" font-family=\"Times New Roman,serif\" font-size=\"14.00\">NONLIVINGAPARTMENTS_AVG : Double</text>\n<text text-anchor=\"start\" x=\"619\" y=\"-983.3\" font-family=\"Times New Roman,serif\" font-size=\"14.00\">NONLIVINGAREA_AVG : Double</text>\n<text text-anchor=\"start\" x=\"619\" y=\"-968.3\" font-family=\"Times New Roman,serif\" font-size=\"14.00\">APARTMENTS_MODE : Double</text>\n<text text-anchor=\"start\" x=\"619\" y=\"-953.3\" font-family=\"Times New Roman,serif\" font-size=\"14.00\">BASEMENTAREA_MODE : Double</text>\n<text text-anchor=\"start\" x=\"619\" y=\"-938.3\" font-family=\"Times New Roman,serif\" font-size=\"14.00\">YEARS_BEGINEXPLUATATION_MODE : Double</text>\n<text text-anchor=\"start\" x=\"619\" y=\"-923.3\" font-family=\"Times New Roman,serif\" font-size=\"14.00\">YEARS_BUILD_MODE : Double</text>\n<text text-anchor=\"start\" x=\"619\" y=\"-908.3\" font-family=\"Times New Roman,serif\" font-size=\"14.00\">COMMONAREA_MODE : Double</text>\n<text text-anchor=\"start\" x=\"619\" y=\"-893.3\" font-family=\"Times New Roman,serif\" font-size=\"14.00\">ELEVATORS_MODE : Double</text>\n<text text-anchor=\"start\" x=\"619\" y=\"-878.3\" font-family=\"Times New Roman,serif\" font-size=\"14.00\">ENTRANCES_MODE : Double</text>\n<text text-anchor=\"start\" x=\"619\" y=\"-863.3\" font-family=\"Times New Roman,serif\" font-size=\"14.00\">FLOORSMAX_MODE : Double</text>\n<text text-anchor=\"start\" x=\"619\" y=\"-848.3\" font-family=\"Times New Roman,serif\" font-size=\"14.00\">FLOORSMIN_MODE : Double</text>\n<text text-anchor=\"start\" x=\"619\" y=\"-833.3\" font-family=\"Times New Roman,serif\" font-size=\"14.00\">LANDAREA_MODE : Double</text>\n<text text-anchor=\"start\" x=\"619\" y=\"-818.3\" font-family=\"Times New Roman,serif\" font-size=\"14.00\">LIVINGAPARTMENTS_MODE : Double</text>\n<text text-anchor=\"start\" x=\"619\" y=\"-803.3\" font-family=\"Times New Roman,serif\" font-size=\"14.00\">LIVINGAREA_MODE : Double</text>\n<text text-anchor=\"start\" x=\"619\" y=\"-788.3\" font-family=\"Times New Roman,serif\" font-size=\"14.00\">NONLIVINGAPARTMENTS_MODE : Double</text>\n<text text-anchor=\"start\" x=\"619\" y=\"-773.3\" font-family=\"Times New Roman,serif\" font-size=\"14.00\">NONLIVINGAREA_MODE : Double</text>\n<text text-anchor=\"start\" x=\"619\" y=\"-758.3\" font-family=\"Times New Roman,serif\" font-size=\"14.00\">APARTMENTS_MEDI : Double</text>\n<text text-anchor=\"start\" x=\"619\" y=\"-743.3\" font-family=\"Times New Roman,serif\" font-size=\"14.00\">BASEMENTAREA_MEDI : Double</text>\n<text text-anchor=\"start\" x=\"619\" y=\"-728.3\" font-family=\"Times New Roman,serif\" font-size=\"14.00\">YEARS_BEGINEXPLUATATION_MEDI : Double</text>\n<text text-anchor=\"start\" x=\"619\" y=\"-713.3\" font-family=\"Times New Roman,serif\" font-size=\"14.00\">YEARS_BUILD_MEDI : Double</text>\n<text text-anchor=\"start\" x=\"619\" y=\"-698.3\" font-family=\"Times New Roman,serif\" font-size=\"14.00\">COMMONAREA_MEDI : Double</text>\n<text text-anchor=\"start\" x=\"619\" y=\"-683.3\" font-family=\"Times New Roman,serif\" font-size=\"14.00\">ELEVATORS_MEDI : Double</text>\n<text text-anchor=\"start\" x=\"619\" y=\"-668.3\" font-family=\"Times New Roman,serif\" font-size=\"14.00\">ENTRANCES_MEDI : Double</text>\n<text text-anchor=\"start\" x=\"619\" y=\"-653.3\" font-family=\"Times New Roman,serif\" font-size=\"14.00\">FLOORSMAX_MEDI : Double</text>\n<text text-anchor=\"start\" x=\"619\" y=\"-638.3\" font-family=\"Times New Roman,serif\" font-size=\"14.00\">FLOORSMIN_MEDI : Double</text>\n<text text-anchor=\"start\" x=\"619\" y=\"-623.3\" font-family=\"Times New Roman,serif\" font-size=\"14.00\">LANDAREA_MEDI : Double</text>\n<text text-anchor=\"start\" x=\"619\" y=\"-608.3\" font-family=\"Times New Roman,serif\" font-size=\"14.00\">LIVINGAPARTMENTS_MEDI : Double</text>\n<text text-anchor=\"start\" x=\"619\" y=\"-593.3\" font-family=\"Times New Roman,serif\" font-size=\"14.00\">LIVINGAREA_MEDI : Double</text>\n<text text-anchor=\"start\" x=\"619\" y=\"-578.3\" font-family=\"Times New Roman,serif\" font-size=\"14.00\">NONLIVINGAPARTMENTS_MEDI : Double</text>\n<text text-anchor=\"start\" x=\"619\" y=\"-563.3\" font-family=\"Times New Roman,serif\" font-size=\"14.00\">NONLIVINGAREA_MEDI : Double</text>\n<text text-anchor=\"start\" x=\"619\" y=\"-548.3\" font-family=\"Times New Roman,serif\" font-size=\"14.00\">FONDKAPREMONT_MODE : Categorical</text>\n<text text-anchor=\"start\" x=\"619\" y=\"-533.3\" font-family=\"Times New Roman,serif\" font-size=\"14.00\">HOUSETYPE_MODE : Categorical</text>\n<text text-anchor=\"start\" x=\"619\" y=\"-518.3\" font-family=\"Times New Roman,serif\" font-size=\"14.00\">TOTALAREA_MODE : Double</text>\n<text text-anchor=\"start\" x=\"619\" y=\"-503.3\" font-family=\"Times New Roman,serif\" font-size=\"14.00\">WALLSMATERIAL_MODE : Categorical</text>\n<text text-anchor=\"start\" x=\"619\" y=\"-488.3\" font-family=\"Times New Roman,serif\" font-size=\"14.00\">EMERGENCYSTATE_MODE : Categorical</text>\n<text text-anchor=\"start\" x=\"619\" y=\"-473.3\" font-family=\"Times New Roman,serif\" font-size=\"14.00\">OBS_30_CNT_SOCIAL_CIRCLE : Double</text>\n<text text-anchor=\"start\" x=\"619\" y=\"-458.3\" font-family=\"Times New Roman,serif\" font-size=\"14.00\">DEF_30_CNT_SOCIAL_CIRCLE : Double</text>\n<text text-anchor=\"start\" x=\"619\" y=\"-443.3\" font-family=\"Times New Roman,serif\" font-size=\"14.00\">OBS_60_CNT_SOCIAL_CIRCLE : Double</text>\n<text text-anchor=\"start\" x=\"619\" y=\"-428.3\" font-family=\"Times New Roman,serif\" font-size=\"14.00\">DEF_60_CNT_SOCIAL_CIRCLE : Double</text>\n<text text-anchor=\"start\" x=\"619\" y=\"-413.3\" font-family=\"Times New Roman,serif\" font-size=\"14.00\">DAYS_LAST_PHONE_CHANGE : Double</text>\n<text text-anchor=\"start\" x=\"619\" y=\"-398.3\" font-family=\"Times New Roman,serif\" font-size=\"14.00\">FLAG_DOCUMENT_2 : Integer</text>\n<text text-anchor=\"start\" x=\"619\" y=\"-383.3\" font-family=\"Times New Roman,serif\" font-size=\"14.00\">FLAG_DOCUMENT_3 : Integer</text>\n<text text-anchor=\"start\" x=\"619\" y=\"-368.3\" font-family=\"Times New Roman,serif\" font-size=\"14.00\">FLAG_DOCUMENT_4 : Integer</text>\n<text text-anchor=\"start\" x=\"619\" y=\"-353.3\" font-family=\"Times New Roman,serif\" font-size=\"14.00\">FLAG_DOCUMENT_5 : Integer</text>\n<text text-anchor=\"start\" x=\"619\" y=\"-338.3\" font-family=\"Times New Roman,serif\" font-size=\"14.00\">FLAG_DOCUMENT_6 : Integer</text>\n<text text-anchor=\"start\" x=\"619\" y=\"-323.3\" font-family=\"Times New Roman,serif\" font-size=\"14.00\">FLAG_DOCUMENT_7 : Integer</text>\n<text text-anchor=\"start\" x=\"619\" y=\"-308.3\" font-family=\"Times New Roman,serif\" font-size=\"14.00\">FLAG_DOCUMENT_8 : Integer</text>\n<text text-anchor=\"start\" x=\"619\" y=\"-293.3\" font-family=\"Times New Roman,serif\" font-size=\"14.00\">FLAG_DOCUMENT_9 : Integer</text>\n<text text-anchor=\"start\" x=\"619\" y=\"-278.3\" font-family=\"Times New Roman,serif\" font-size=\"14.00\">FLAG_DOCUMENT_10 : Integer</text>\n<text text-anchor=\"start\" x=\"619\" y=\"-263.3\" font-family=\"Times New Roman,serif\" font-size=\"14.00\">FLAG_DOCUMENT_11 : Integer</text>\n<text text-anchor=\"start\" x=\"619\" y=\"-248.3\" font-family=\"Times New Roman,serif\" font-size=\"14.00\">FLAG_DOCUMENT_12 : Integer</text>\n<text text-anchor=\"start\" x=\"619\" y=\"-233.3\" font-family=\"Times New Roman,serif\" font-size=\"14.00\">FLAG_DOCUMENT_13 : Integer</text>\n<text text-anchor=\"start\" x=\"619\" y=\"-218.3\" font-family=\"Times New Roman,serif\" font-size=\"14.00\">FLAG_DOCUMENT_14 : Integer</text>\n<text text-anchor=\"start\" x=\"619\" y=\"-203.3\" font-family=\"Times New Roman,serif\" font-size=\"14.00\">FLAG_DOCUMENT_15 : Integer</text>\n<text text-anchor=\"start\" x=\"619\" y=\"-188.3\" font-family=\"Times New Roman,serif\" font-size=\"14.00\">FLAG_DOCUMENT_16 : Integer</text>\n<text text-anchor=\"start\" x=\"619\" y=\"-173.3\" font-family=\"Times New Roman,serif\" font-size=\"14.00\">FLAG_DOCUMENT_17 : Integer</text>\n<text text-anchor=\"start\" x=\"619\" y=\"-158.3\" font-family=\"Times New Roman,serif\" font-size=\"14.00\">FLAG_DOCUMENT_18 : Integer</text>\n<text text-anchor=\"start\" x=\"619\" y=\"-143.3\" font-family=\"Times New Roman,serif\" font-size=\"14.00\">FLAG_DOCUMENT_19 : Integer</text>\n<text text-anchor=\"start\" x=\"619\" y=\"-128.3\" font-family=\"Times New Roman,serif\" font-size=\"14.00\">FLAG_DOCUMENT_20 : Integer</text>\n<text text-anchor=\"start\" x=\"619\" y=\"-113.3\" font-family=\"Times New Roman,serif\" font-size=\"14.00\">FLAG_DOCUMENT_21 : Integer</text>\n<text text-anchor=\"start\" x=\"619\" y=\"-98.3\" font-family=\"Times New Roman,serif\" font-size=\"14.00\">AMT_REQ_CREDIT_BUREAU_HOUR : Double</text>\n<text text-anchor=\"start\" x=\"619\" y=\"-83.3\" font-family=\"Times New Roman,serif\" font-size=\"14.00\">AMT_REQ_CREDIT_BUREAU_DAY : Double</text>\n<text text-anchor=\"start\" x=\"619\" y=\"-68.3\" font-family=\"Times New Roman,serif\" font-size=\"14.00\">AMT_REQ_CREDIT_BUREAU_WEEK : Double</text>\n<text text-anchor=\"start\" x=\"619\" y=\"-53.3\" font-family=\"Times New Roman,serif\" font-size=\"14.00\">AMT_REQ_CREDIT_BUREAU_MON : Double</text>\n<text text-anchor=\"start\" x=\"619\" y=\"-38.3\" font-family=\"Times New Roman,serif\" font-size=\"14.00\">AMT_REQ_CREDIT_BUREAU_QRT : Double</text>\n<text text-anchor=\"start\" x=\"619\" y=\"-23.3\" font-family=\"Times New Roman,serif\" font-size=\"14.00\">AMT_REQ_CREDIT_BUREAU_YEAR : Double</text>\n<text text-anchor=\"start\" x=\"619\" y=\"-8.3\" font-family=\"Times New Roman,serif\" font-size=\"14.00\">EXT_SOURCE : Double</text>\n</g>\n<!-- bureau&#45;&gt;application_train -->\n<g id=\"edge2\" class=\"edge\">\n<title>bureau&#45;&gt;application_train</title>\n<path fill=\"none\" stroke=\"black\" d=\"M1387,-2010.83C1387,-1926.03 1387,-1835 1387,-1835 1387,-1835 932.67,-1835 932.67,-1835 932.67,-1835 932.67,-1826.91 932.67,-1826.91\"/>\n<polygon fill=\"black\" stroke=\"black\" points=\"936.17,-1826.91 932.67,-1816.91 929.17,-1826.91 936.17,-1826.91\"/>\n<text text-anchor=\"middle\" x=\"1200.2\" y=\"-1838.8\" font-family=\"Times New Roman,serif\" font-size=\"14.00\">SK_ID_CURR</text>\n</g>\n<!-- bureau_balance -->\n<g id=\"node2\" class=\"node\">\n<title>bureau_balance</title>\n<polygon fill=\"none\" stroke=\"black\" points=\"1266,-2491.5 1266,-2582.5 1508,-2582.5 1508,-2491.5 1266,-2491.5\"/>\n<text text-anchor=\"middle\" x=\"1387\" y=\"-2567.3\" font-family=\"Times New Roman,serif\" font-size=\"14.00\">bureau_balance (27299925 rows)</text>\n<polyline fill=\"none\" stroke=\"black\" points=\"1266,-2559.5 1508,-2559.5 \"/>\n<text text-anchor=\"start\" x=\"1274\" y=\"-2544.3\" font-family=\"Times New Roman,serif\" font-size=\"14.00\">index : Integer; index</text>\n<text text-anchor=\"start\" x=\"1274\" y=\"-2529.3\" font-family=\"Times New Roman,serif\" font-size=\"14.00\">SK_ID_BUREAU : Integer; foreign_key</text>\n<text text-anchor=\"start\" x=\"1274\" y=\"-2514.3\" font-family=\"Times New Roman,serif\" font-size=\"14.00\">MONTHS_BALANCE : Integer</text>\n<text text-anchor=\"start\" x=\"1274\" y=\"-2499.3\" font-family=\"Times New Roman,serif\" font-size=\"14.00\">STATUS : Categorical</text>\n</g>\n<!-- bureau_balance&#45;&gt;bureau -->\n<g id=\"edge1\" class=\"edge\">\n<title>bureau_balance&#45;&gt;bureau</title>\n<path fill=\"none\" stroke=\"black\" d=\"M1387,-2491.18C1387,-2491.18 1387,-2307.17 1387,-2307.17\"/>\n<polygon fill=\"black\" stroke=\"black\" points=\"1390.5,-2307.17 1387,-2297.17 1383.5,-2307.17 1390.5,-2307.17\"/>\n<text text-anchor=\"middle\" x=\"1335\" y=\"-2402.98\" font-family=\"Times New Roman,serif\" font-size=\"14.00\">SK_ID_BUREAU</text>\n</g>\n<!-- previous_application -->\n<g id=\"node4\" class=\"node\">\n<title>previous_application</title>\n<polygon fill=\"none\" stroke=\"black\" points=\"0,-1853.5 0,-2454.5 330,-2454.5 330,-1853.5 0,-1853.5\"/>\n<text text-anchor=\"middle\" x=\"165\" y=\"-2439.3\" font-family=\"Times New Roman,serif\" font-size=\"14.00\">previous_application (1670214 rows)</text>\n<polyline fill=\"none\" stroke=\"black\" points=\"0,-2431.5 330,-2431.5 \"/>\n<text text-anchor=\"start\" x=\"8\" y=\"-2416.3\" font-family=\"Times New Roman,serif\" font-size=\"14.00\">index : Integer; index</text>\n<text text-anchor=\"start\" x=\"8\" y=\"-2401.3\" font-family=\"Times New Roman,serif\" font-size=\"14.00\">SK_ID_PREV : Integer</text>\n<text text-anchor=\"start\" x=\"8\" y=\"-2386.3\" font-family=\"Times New Roman,serif\" font-size=\"14.00\">SK_ID_CURR : Integer; foreign_key</text>\n<text text-anchor=\"start\" x=\"8\" y=\"-2371.3\" font-family=\"Times New Roman,serif\" font-size=\"14.00\">NAME_CONTRACT_TYPE : Categorical</text>\n<text text-anchor=\"start\" x=\"8\" y=\"-2356.3\" font-family=\"Times New Roman,serif\" font-size=\"14.00\">AMT_ANNUITY : Double</text>\n<text text-anchor=\"start\" x=\"8\" y=\"-2341.3\" font-family=\"Times New Roman,serif\" font-size=\"14.00\">AMT_APPLICATION : Double</text>\n<text text-anchor=\"start\" x=\"8\" y=\"-2326.3\" font-family=\"Times New Roman,serif\" font-size=\"14.00\">AMT_CREDIT : Double</text>\n<text text-anchor=\"start\" x=\"8\" y=\"-2311.3\" font-family=\"Times New Roman,serif\" font-size=\"14.00\">AMT_DOWN_PAYMENT : Double</text>\n<text text-anchor=\"start\" x=\"8\" y=\"-2296.3\" font-family=\"Times New Roman,serif\" font-size=\"14.00\">AMT_GOODS_PRICE : Double</text>\n<text text-anchor=\"start\" x=\"8\" y=\"-2281.3\" font-family=\"Times New Roman,serif\" font-size=\"14.00\">WEEKDAY_APPR_PROCESS_START : Categorical</text>\n<text text-anchor=\"start\" x=\"8\" y=\"-2266.3\" font-family=\"Times New Roman,serif\" font-size=\"14.00\">HOUR_APPR_PROCESS_START : Integer</text>\n<text text-anchor=\"start\" x=\"8\" y=\"-2251.3\" font-family=\"Times New Roman,serif\" font-size=\"14.00\">FLAG_LAST_APPL_PER_CONTRACT : Categorical</text>\n<text text-anchor=\"start\" x=\"8\" y=\"-2236.3\" font-family=\"Times New Roman,serif\" font-size=\"14.00\">NFLAG_LAST_APPL_IN_DAY : Integer</text>\n<text text-anchor=\"start\" x=\"8\" y=\"-2221.3\" font-family=\"Times New Roman,serif\" font-size=\"14.00\">RATE_DOWN_PAYMENT : Double</text>\n<text text-anchor=\"start\" x=\"8\" y=\"-2206.3\" font-family=\"Times New Roman,serif\" font-size=\"14.00\">RATE_INTEREST_PRIMARY : Double</text>\n<text text-anchor=\"start\" x=\"8\" y=\"-2191.3\" font-family=\"Times New Roman,serif\" font-size=\"14.00\">RATE_INTEREST_PRIVILEGED : Double</text>\n<text text-anchor=\"start\" x=\"8\" y=\"-2176.3\" font-family=\"Times New Roman,serif\" font-size=\"14.00\">NAME_CASH_LOAN_PURPOSE : Categorical</text>\n<text text-anchor=\"start\" x=\"8\" y=\"-2161.3\" font-family=\"Times New Roman,serif\" font-size=\"14.00\">NAME_CONTRACT_STATUS : Categorical</text>\n<text text-anchor=\"start\" x=\"8\" y=\"-2146.3\" font-family=\"Times New Roman,serif\" font-size=\"14.00\">DAYS_DECISION : Integer</text>\n<text text-anchor=\"start\" x=\"8\" y=\"-2131.3\" font-family=\"Times New Roman,serif\" font-size=\"14.00\">NAME_PAYMENT_TYPE : Categorical</text>\n<text text-anchor=\"start\" x=\"8\" y=\"-2116.3\" font-family=\"Times New Roman,serif\" font-size=\"14.00\">CODE_REJECT_REASON : Categorical</text>\n<text text-anchor=\"start\" x=\"8\" y=\"-2101.3\" font-family=\"Times New Roman,serif\" font-size=\"14.00\">NAME_TYPE_SUITE : Categorical</text>\n<text text-anchor=\"start\" x=\"8\" y=\"-2086.3\" font-family=\"Times New Roman,serif\" font-size=\"14.00\">NAME_CLIENT_TYPE : Categorical</text>\n<text text-anchor=\"start\" x=\"8\" y=\"-2071.3\" font-family=\"Times New Roman,serif\" font-size=\"14.00\">NAME_GOODS_CATEGORY : Categorical</text>\n<text text-anchor=\"start\" x=\"8\" y=\"-2056.3\" font-family=\"Times New Roman,serif\" font-size=\"14.00\">NAME_PORTFOLIO : Categorical</text>\n<text text-anchor=\"start\" x=\"8\" y=\"-2041.3\" font-family=\"Times New Roman,serif\" font-size=\"14.00\">NAME_PRODUCT_TYPE : Categorical</text>\n<text text-anchor=\"start\" x=\"8\" y=\"-2026.3\" font-family=\"Times New Roman,serif\" font-size=\"14.00\">CHANNEL_TYPE : Categorical</text>\n<text text-anchor=\"start\" x=\"8\" y=\"-2011.3\" font-family=\"Times New Roman,serif\" font-size=\"14.00\">SELLERPLACE_AREA : Integer</text>\n<text text-anchor=\"start\" x=\"8\" y=\"-1996.3\" font-family=\"Times New Roman,serif\" font-size=\"14.00\">NAME_SELLER_INDUSTRY : Categorical</text>\n<text text-anchor=\"start\" x=\"8\" y=\"-1981.3\" font-family=\"Times New Roman,serif\" font-size=\"14.00\">CNT_PAYMENT : Double</text>\n<text text-anchor=\"start\" x=\"8\" y=\"-1966.3\" font-family=\"Times New Roman,serif\" font-size=\"14.00\">NAME_YIELD_GROUP : Categorical</text>\n<text text-anchor=\"start\" x=\"8\" y=\"-1951.3\" font-family=\"Times New Roman,serif\" font-size=\"14.00\">PRODUCT_COMBINATION : Categorical</text>\n<text text-anchor=\"start\" x=\"8\" y=\"-1936.3\" font-family=\"Times New Roman,serif\" font-size=\"14.00\">DAYS_FIRST_DRAWING : Double</text>\n<text text-anchor=\"start\" x=\"8\" y=\"-1921.3\" font-family=\"Times New Roman,serif\" font-size=\"14.00\">DAYS_FIRST_DUE : Double</text>\n<text text-anchor=\"start\" x=\"8\" y=\"-1906.3\" font-family=\"Times New Roman,serif\" font-size=\"14.00\">DAYS_LAST_DUE_1ST_VERSION : Double</text>\n<text text-anchor=\"start\" x=\"8\" y=\"-1891.3\" font-family=\"Times New Roman,serif\" font-size=\"14.00\">DAYS_LAST_DUE : Double</text>\n<text text-anchor=\"start\" x=\"8\" y=\"-1876.3\" font-family=\"Times New Roman,serif\" font-size=\"14.00\">DAYS_TERMINATION : Double</text>\n<text text-anchor=\"start\" x=\"8\" y=\"-1861.3\" font-family=\"Times New Roman,serif\" font-size=\"14.00\">NFLAG_INSURED_ON_APPROVAL : Double</text>\n</g>\n<!-- previous_application&#45;&gt;application_train -->\n<g id=\"edge6\" class=\"edge\">\n<title>previous_application&#45;&gt;application_train</title>\n<path fill=\"none\" stroke=\"black\" d=\"M330.13,-1905C458.66,-1905 615.33,-1905 615.33,-1905 615.33,-1905 615.33,-1826.57 615.33,-1826.57\"/>\n<polygon fill=\"black\" stroke=\"black\" points=\"618.83,-1826.57 615.33,-1816.57 611.83,-1826.57 618.83,-1826.57\"/>\n<text text-anchor=\"middle\" x=\"468.45\" y=\"-1908.8\" font-family=\"Times New Roman,serif\" font-size=\"14.00\">SK_ID_CURR</text>\n</g>\n<!-- pos_cash_balance -->\n<g id=\"node5\" class=\"node\">\n<title>pos_cash_balance</title>\n<polygon fill=\"none\" stroke=\"black\" points=\"348,-2071 348,-2237 624,-2237 624,-2071 348,-2071\"/>\n<text text-anchor=\"middle\" x=\"486\" y=\"-2221.8\" font-family=\"Times New Roman,serif\" font-size=\"14.00\">pos_cash_balance (10001358 rows)</text>\n<polyline fill=\"none\" stroke=\"black\" points=\"348,-2214 624,-2214 \"/>\n<text text-anchor=\"start\" x=\"356\" y=\"-2198.8\" font-family=\"Times New Roman,serif\" font-size=\"14.00\">index : Integer; index</text>\n<text text-anchor=\"start\" x=\"356\" y=\"-2183.8\" font-family=\"Times New Roman,serif\" font-size=\"14.00\">SK_ID_PREV : Integer</text>\n<text text-anchor=\"start\" x=\"356\" y=\"-2168.8\" font-family=\"Times New Roman,serif\" font-size=\"14.00\">SK_ID_CURR : Integer; foreign_key</text>\n<text text-anchor=\"start\" x=\"356\" y=\"-2153.8\" font-family=\"Times New Roman,serif\" font-size=\"14.00\">MONTHS_BALANCE : Integer</text>\n<text text-anchor=\"start\" x=\"356\" y=\"-2138.8\" font-family=\"Times New Roman,serif\" font-size=\"14.00\">CNT_INSTALMENT : Double</text>\n<text text-anchor=\"start\" x=\"356\" y=\"-2123.8\" font-family=\"Times New Roman,serif\" font-size=\"14.00\">CNT_INSTALMENT_FUTURE : Double</text>\n<text text-anchor=\"start\" x=\"356\" y=\"-2108.8\" font-family=\"Times New Roman,serif\" font-size=\"14.00\">NAME_CONTRACT_STATUS : Categorical</text>\n<text text-anchor=\"start\" x=\"356\" y=\"-2093.8\" font-family=\"Times New Roman,serif\" font-size=\"14.00\">SK_DPD : Integer</text>\n<text text-anchor=\"start\" x=\"356\" y=\"-2078.8\" font-family=\"Times New Roman,serif\" font-size=\"14.00\">SK_DPD_DEF : Integer</text>\n</g>\n<!-- pos_cash_balance&#45;&gt;application_train -->\n<g id=\"edge5\" class=\"edge\">\n<title>pos_cash_balance&#45;&gt;application_train</title>\n<path fill=\"none\" stroke=\"black\" d=\"M619.67,-2070.83C619.67,-2070.83 619.67,-1826.67 619.67,-1826.67\"/>\n<polygon fill=\"black\" stroke=\"black\" points=\"623.17,-1826.67 619.67,-1816.67 616.17,-1826.67 623.17,-1826.67\"/>\n<text text-anchor=\"middle\" x=\"576.17\" y=\"-1952.55\" font-family=\"Times New Roman,serif\" font-size=\"14.00\">SK_ID_CURR</text>\n</g>\n<!-- installments_payments -->\n<g id=\"node6\" class=\"node\">\n<title>installments_payments</title>\n<polygon fill=\"none\" stroke=\"black\" points=\"642.5,-2056 642.5,-2252 905.5,-2252 905.5,-2056 642.5,-2056\"/>\n<text text-anchor=\"middle\" x=\"774\" y=\"-2236.8\" font-family=\"Times New Roman,serif\" font-size=\"14.00\">installments_payments (13605401 rows)</text>\n<polyline fill=\"none\" stroke=\"black\" points=\"642.5,-2229 905.5,-2229 \"/>\n<text text-anchor=\"start\" x=\"650.5\" y=\"-2213.8\" font-family=\"Times New Roman,serif\" font-size=\"14.00\">index : Integer; index</text>\n<text text-anchor=\"start\" x=\"650.5\" y=\"-2198.8\" font-family=\"Times New Roman,serif\" font-size=\"14.00\">SK_ID_PREV : Integer</text>\n<text text-anchor=\"start\" x=\"650.5\" y=\"-2183.8\" font-family=\"Times New Roman,serif\" font-size=\"14.00\">SK_ID_CURR : Integer; foreign_key</text>\n<text text-anchor=\"start\" x=\"650.5\" y=\"-2168.8\" font-family=\"Times New Roman,serif\" font-size=\"14.00\">NUM_INSTALMENT_VERSION : Double</text>\n<text text-anchor=\"start\" x=\"650.5\" y=\"-2153.8\" font-family=\"Times New Roman,serif\" font-size=\"14.00\">NUM_INSTALMENT_NUMBER : Integer</text>\n<text text-anchor=\"start\" x=\"650.5\" y=\"-2138.8\" font-family=\"Times New Roman,serif\" font-size=\"14.00\">DAYS_INSTALMENT : Double</text>\n<text text-anchor=\"start\" x=\"650.5\" y=\"-2123.8\" font-family=\"Times New Roman,serif\" font-size=\"14.00\">DAYS_ENTRY_PAYMENT : Double</text>\n<text text-anchor=\"start\" x=\"650.5\" y=\"-2108.8\" font-family=\"Times New Roman,serif\" font-size=\"14.00\">AMT_INSTALMENT : Double</text>\n<text text-anchor=\"start\" x=\"650.5\" y=\"-2093.8\" font-family=\"Times New Roman,serif\" font-size=\"14.00\">AMT_PAYMENT : Double</text>\n<text text-anchor=\"start\" x=\"650.5\" y=\"-2078.8\" font-family=\"Times New Roman,serif\" font-size=\"14.00\">LATE_PAYMENT_FLAG : Integer</text>\n<text text-anchor=\"start\" x=\"650.5\" y=\"-2063.8\" font-family=\"Times New Roman,serif\" font-size=\"14.00\">LESS_PAYMENT_FLAG : Integer</text>\n</g>\n<!-- installments_payments&#45;&gt;application_train -->\n<g id=\"edge3\" class=\"edge\">\n<title>installments_payments&#45;&gt;application_train</title>\n<path fill=\"none\" stroke=\"black\" d=\"M774,-2055.75C774,-2055.75 774,-1826.79 774,-1826.79\"/>\n<polygon fill=\"black\" stroke=\"black\" points=\"777.5,-1826.79 774,-1816.79 770.5,-1826.79 777.5,-1826.79\"/>\n<text text-anchor=\"middle\" x=\"730.5\" y=\"-1945.07\" font-family=\"Times New Roman,serif\" font-size=\"14.00\">SK_ID_CURR</text>\n</g>\n<!-- credit_card_balance -->\n<g id=\"node7\" class=\"node\">\n<title>credit_card_balance</title>\n<polygon fill=\"none\" stroke=\"black\" points=\"924,-1958.5 924,-2349.5 1234,-2349.5 1234,-1958.5 924,-1958.5\"/>\n<text text-anchor=\"middle\" x=\"1079\" y=\"-2334.3\" font-family=\"Times New Roman,serif\" font-size=\"14.00\">credit_card_balance (3840312 rows)</text>\n<polyline fill=\"none\" stroke=\"black\" points=\"924,-2326.5 1234,-2326.5 \"/>\n<text text-anchor=\"start\" x=\"932\" y=\"-2311.3\" font-family=\"Times New Roman,serif\" font-size=\"14.00\">index : Integer; index</text>\n<text text-anchor=\"start\" x=\"932\" y=\"-2296.3\" font-family=\"Times New Roman,serif\" font-size=\"14.00\">SK_ID_PREV : Integer</text>\n<text text-anchor=\"start\" x=\"932\" y=\"-2281.3\" font-family=\"Times New Roman,serif\" font-size=\"14.00\">SK_ID_CURR : Integer; foreign_key</text>\n<text text-anchor=\"start\" x=\"932\" y=\"-2266.3\" font-family=\"Times New Roman,serif\" font-size=\"14.00\">MONTHS_BALANCE : Integer</text>\n<text text-anchor=\"start\" x=\"932\" y=\"-2251.3\" font-family=\"Times New Roman,serif\" font-size=\"14.00\">AMT_BALANCE : Double</text>\n<text text-anchor=\"start\" x=\"932\" y=\"-2236.3\" font-family=\"Times New Roman,serif\" font-size=\"14.00\">AMT_CREDIT_LIMIT_ACTUAL : Integer</text>\n<text text-anchor=\"start\" x=\"932\" y=\"-2221.3\" font-family=\"Times New Roman,serif\" font-size=\"14.00\">AMT_DRAWINGS_ATM_CURRENT : Double</text>\n<text text-anchor=\"start\" x=\"932\" y=\"-2206.3\" font-family=\"Times New Roman,serif\" font-size=\"14.00\">AMT_DRAWINGS_CURRENT : Double</text>\n<text text-anchor=\"start\" x=\"932\" y=\"-2191.3\" font-family=\"Times New Roman,serif\" font-size=\"14.00\">AMT_DRAWINGS_OTHER_CURRENT : Double</text>\n<text text-anchor=\"start\" x=\"932\" y=\"-2176.3\" font-family=\"Times New Roman,serif\" font-size=\"14.00\">AMT_DRAWINGS_POS_CURRENT : Double</text>\n<text text-anchor=\"start\" x=\"932\" y=\"-2161.3\" font-family=\"Times New Roman,serif\" font-size=\"14.00\">AMT_INST_MIN_REGULARITY : Double</text>\n<text text-anchor=\"start\" x=\"932\" y=\"-2146.3\" font-family=\"Times New Roman,serif\" font-size=\"14.00\">AMT_PAYMENT_CURRENT : Double</text>\n<text text-anchor=\"start\" x=\"932\" y=\"-2131.3\" font-family=\"Times New Roman,serif\" font-size=\"14.00\">AMT_PAYMENT_TOTAL_CURRENT : Double</text>\n<text text-anchor=\"start\" x=\"932\" y=\"-2116.3\" font-family=\"Times New Roman,serif\" font-size=\"14.00\">AMT_RECEIVABLE_PRINCIPAL : Double</text>\n<text text-anchor=\"start\" x=\"932\" y=\"-2101.3\" font-family=\"Times New Roman,serif\" font-size=\"14.00\">AMT_RECIVABLE : Double</text>\n<text text-anchor=\"start\" x=\"932\" y=\"-2086.3\" font-family=\"Times New Roman,serif\" font-size=\"14.00\">AMT_TOTAL_RECEIVABLE : Double</text>\n<text text-anchor=\"start\" x=\"932\" y=\"-2071.3\" font-family=\"Times New Roman,serif\" font-size=\"14.00\">CNT_DRAWINGS_ATM_CURRENT : Double</text>\n<text text-anchor=\"start\" x=\"932\" y=\"-2056.3\" font-family=\"Times New Roman,serif\" font-size=\"14.00\">CNT_DRAWINGS_CURRENT : Integer</text>\n<text text-anchor=\"start\" x=\"932\" y=\"-2041.3\" font-family=\"Times New Roman,serif\" font-size=\"14.00\">CNT_DRAWINGS_OTHER_CURRENT : Double</text>\n<text text-anchor=\"start\" x=\"932\" y=\"-2026.3\" font-family=\"Times New Roman,serif\" font-size=\"14.00\">CNT_DRAWINGS_POS_CURRENT : Double</text>\n<text text-anchor=\"start\" x=\"932\" y=\"-2011.3\" font-family=\"Times New Roman,serif\" font-size=\"14.00\">CNT_INSTALMENT_MATURE_CUM : Double</text>\n<text text-anchor=\"start\" x=\"932\" y=\"-1996.3\" font-family=\"Times New Roman,serif\" font-size=\"14.00\">NAME_CONTRACT_STATUS : Categorical</text>\n<text text-anchor=\"start\" x=\"932\" y=\"-1981.3\" font-family=\"Times New Roman,serif\" font-size=\"14.00\">SK_DPD : Integer</text>\n<text text-anchor=\"start\" x=\"932\" y=\"-1966.3\" font-family=\"Times New Roman,serif\" font-size=\"14.00\">SK_DPD_DEF : Integer</text>\n</g>\n<!-- credit_card_balance&#45;&gt;application_train -->\n<g id=\"edge4\" class=\"edge\">\n<title>credit_card_balance&#45;&gt;application_train</title>\n<path fill=\"none\" stroke=\"black\" d=\"M928.33,-1958.36C928.33,-1958.36 928.33,-1826.59 928.33,-1826.59\"/>\n<polygon fill=\"black\" stroke=\"black\" points=\"931.83,-1826.59 928.33,-1816.59 924.83,-1826.59 931.83,-1826.59\"/>\n<text text-anchor=\"middle\" x=\"884.83\" y=\"-1896.28\" font-family=\"Times New Roman,serif\" font-size=\"14.00\">SK_ID_CURR</text>\n</g>\n</g>\n</svg>\n",
      "text/plain": [
       "<graphviz.graphs.Digraph at 0x1d6e8452910>"
      ]
     },
     "execution_count": 35,
     "metadata": {},
     "output_type": "execute_result"
    }
   ],
   "source": [
    "es.plot()"
   ]
  },
  {
   "cell_type": "code",
   "execution_count": 36,
   "metadata": {},
   "outputs": [],
   "source": [
    "feature_matrix, feature_defs = ft.dfs(entityset=es, target_dataframe_name=\"application_train\")"
   ]
  },
  {
   "cell_type": "code",
   "execution_count": 37,
   "metadata": {},
   "outputs": [
    {
     "data": {
      "text/html": [
       "<div>\n",
       "<style scoped>\n",
       "    .dataframe tbody tr th:only-of-type {\n",
       "        vertical-align: middle;\n",
       "    }\n",
       "\n",
       "    .dataframe tbody tr th {\n",
       "        vertical-align: top;\n",
       "    }\n",
       "\n",
       "    .dataframe thead th {\n",
       "        text-align: right;\n",
       "    }\n",
       "</style>\n",
       "<table border=\"1\" class=\"dataframe\">\n",
       "  <thead>\n",
       "    <tr style=\"text-align: right;\">\n",
       "      <th></th>\n",
       "      <th>TARGET</th>\n",
       "      <th>NAME_CONTRACT_TYPE</th>\n",
       "      <th>FLAG_OWN_CAR</th>\n",
       "      <th>FLAG_OWN_REALTY</th>\n",
       "      <th>CNT_CHILDREN</th>\n",
       "      <th>AMT_INCOME_TOTAL</th>\n",
       "      <th>AMT_CREDIT</th>\n",
       "      <th>AMT_ANNUITY</th>\n",
       "      <th>AMT_GOODS_PRICE</th>\n",
       "      <th>NAME_TYPE_SUITE</th>\n",
       "      <th>...</th>\n",
       "      <th>SUM(bureau_balance.bureau.AMT_CREDIT_SUM)</th>\n",
       "      <th>SUM(bureau_balance.bureau.AMT_CREDIT_SUM_DEBT)</th>\n",
       "      <th>SUM(bureau_balance.bureau.AMT_CREDIT_SUM_LIMIT)</th>\n",
       "      <th>SUM(bureau_balance.bureau.AMT_CREDIT_SUM_OVERDUE)</th>\n",
       "      <th>SUM(bureau_balance.bureau.CNT_CREDIT_PROLONG)</th>\n",
       "      <th>SUM(bureau_balance.bureau.CREDIT_DAY_OVERDUE)</th>\n",
       "      <th>SUM(bureau_balance.bureau.DAYS_CREDIT)</th>\n",
       "      <th>SUM(bureau_balance.bureau.DAYS_CREDIT_ENDDATE)</th>\n",
       "      <th>SUM(bureau_balance.bureau.DAYS_CREDIT_UPDATE)</th>\n",
       "      <th>SUM(bureau_balance.bureau.DAYS_ENDDATE_FACT)</th>\n",
       "    </tr>\n",
       "    <tr>\n",
       "      <th>SK_ID_CURR</th>\n",
       "      <th></th>\n",
       "      <th></th>\n",
       "      <th></th>\n",
       "      <th></th>\n",
       "      <th></th>\n",
       "      <th></th>\n",
       "      <th></th>\n",
       "      <th></th>\n",
       "      <th></th>\n",
       "      <th></th>\n",
       "      <th></th>\n",
       "      <th></th>\n",
       "      <th></th>\n",
       "      <th></th>\n",
       "      <th></th>\n",
       "      <th></th>\n",
       "      <th></th>\n",
       "      <th></th>\n",
       "      <th></th>\n",
       "      <th></th>\n",
       "      <th></th>\n",
       "    </tr>\n",
       "  </thead>\n",
       "  <tbody>\n",
       "    <tr>\n",
       "      <th>0</th>\n",
       "      <td>1</td>\n",
       "      <td>Cash loans</td>\n",
       "      <td>N</td>\n",
       "      <td>Y</td>\n",
       "      <td>0</td>\n",
       "      <td>202500.0</td>\n",
       "      <td>406597.5</td>\n",
       "      <td>24700.5</td>\n",
       "      <td>351000.0</td>\n",
       "      <td>Unaccompanied</td>\n",
       "      <td>...</td>\n",
       "      <td>0.000000e+00</td>\n",
       "      <td>0.000000e+00</td>\n",
       "      <td>0.000000e+00</td>\n",
       "      <td>0.0</td>\n",
       "      <td>0.0</td>\n",
       "      <td>0.0</td>\n",
       "      <td>0.0</td>\n",
       "      <td>0.0</td>\n",
       "      <td>0.0</td>\n",
       "      <td>0.0</td>\n",
       "    </tr>\n",
       "    <tr>\n",
       "      <th>1</th>\n",
       "      <td>0</td>\n",
       "      <td>Cash loans</td>\n",
       "      <td>N</td>\n",
       "      <td>N</td>\n",
       "      <td>0</td>\n",
       "      <td>270000.0</td>\n",
       "      <td>1293502.5</td>\n",
       "      <td>35698.5</td>\n",
       "      <td>1129500.0</td>\n",
       "      <td>Family</td>\n",
       "      <td>...</td>\n",
       "      <td>0.000000e+00</td>\n",
       "      <td>0.000000e+00</td>\n",
       "      <td>0.000000e+00</td>\n",
       "      <td>0.0</td>\n",
       "      <td>0.0</td>\n",
       "      <td>0.0</td>\n",
       "      <td>0.0</td>\n",
       "      <td>0.0</td>\n",
       "      <td>0.0</td>\n",
       "      <td>0.0</td>\n",
       "    </tr>\n",
       "    <tr>\n",
       "      <th>2</th>\n",
       "      <td>0</td>\n",
       "      <td>Revolving loans</td>\n",
       "      <td>Y</td>\n",
       "      <td>Y</td>\n",
       "      <td>0</td>\n",
       "      <td>67500.0</td>\n",
       "      <td>135000.0</td>\n",
       "      <td>6750.0</td>\n",
       "      <td>135000.0</td>\n",
       "      <td>Unaccompanied</td>\n",
       "      <td>...</td>\n",
       "      <td>0.000000e+00</td>\n",
       "      <td>0.000000e+00</td>\n",
       "      <td>0.000000e+00</td>\n",
       "      <td>0.0</td>\n",
       "      <td>0.0</td>\n",
       "      <td>0.0</td>\n",
       "      <td>0.0</td>\n",
       "      <td>0.0</td>\n",
       "      <td>0.0</td>\n",
       "      <td>0.0</td>\n",
       "    </tr>\n",
       "    <tr>\n",
       "      <th>3</th>\n",
       "      <td>0</td>\n",
       "      <td>Cash loans</td>\n",
       "      <td>N</td>\n",
       "      <td>Y</td>\n",
       "      <td>0</td>\n",
       "      <td>135000.0</td>\n",
       "      <td>312682.5</td>\n",
       "      <td>29686.5</td>\n",
       "      <td>297000.0</td>\n",
       "      <td>Unaccompanied</td>\n",
       "      <td>...</td>\n",
       "      <td>0.000000e+00</td>\n",
       "      <td>0.000000e+00</td>\n",
       "      <td>0.000000e+00</td>\n",
       "      <td>0.0</td>\n",
       "      <td>0.0</td>\n",
       "      <td>0.0</td>\n",
       "      <td>0.0</td>\n",
       "      <td>0.0</td>\n",
       "      <td>0.0</td>\n",
       "      <td>0.0</td>\n",
       "    </tr>\n",
       "    <tr>\n",
       "      <th>4</th>\n",
       "      <td>0</td>\n",
       "      <td>Cash loans</td>\n",
       "      <td>N</td>\n",
       "      <td>Y</td>\n",
       "      <td>0</td>\n",
       "      <td>121500.0</td>\n",
       "      <td>513000.0</td>\n",
       "      <td>21865.5</td>\n",
       "      <td>513000.0</td>\n",
       "      <td>Unaccompanied</td>\n",
       "      <td>...</td>\n",
       "      <td>0.000000e+00</td>\n",
       "      <td>0.000000e+00</td>\n",
       "      <td>0.000000e+00</td>\n",
       "      <td>0.0</td>\n",
       "      <td>0.0</td>\n",
       "      <td>0.0</td>\n",
       "      <td>0.0</td>\n",
       "      <td>0.0</td>\n",
       "      <td>0.0</td>\n",
       "      <td>0.0</td>\n",
       "    </tr>\n",
       "    <tr>\n",
       "      <th>...</th>\n",
       "      <td>...</td>\n",
       "      <td>...</td>\n",
       "      <td>...</td>\n",
       "      <td>...</td>\n",
       "      <td>...</td>\n",
       "      <td>...</td>\n",
       "      <td>...</td>\n",
       "      <td>...</td>\n",
       "      <td>...</td>\n",
       "      <td>...</td>\n",
       "      <td>...</td>\n",
       "      <td>...</td>\n",
       "      <td>...</td>\n",
       "      <td>...</td>\n",
       "      <td>...</td>\n",
       "      <td>...</td>\n",
       "      <td>...</td>\n",
       "      <td>...</td>\n",
       "      <td>...</td>\n",
       "      <td>...</td>\n",
       "      <td>...</td>\n",
       "    </tr>\n",
       "    <tr>\n",
       "      <th>307506</th>\n",
       "      <td>0</td>\n",
       "      <td>Cash loans</td>\n",
       "      <td>N</td>\n",
       "      <td>N</td>\n",
       "      <td>0</td>\n",
       "      <td>157500.0</td>\n",
       "      <td>254700.0</td>\n",
       "      <td>27558.0</td>\n",
       "      <td>225000.0</td>\n",
       "      <td>Unaccompanied</td>\n",
       "      <td>...</td>\n",
       "      <td>0.000000e+00</td>\n",
       "      <td>0.000000e+00</td>\n",
       "      <td>0.000000e+00</td>\n",
       "      <td>0.0</td>\n",
       "      <td>0.0</td>\n",
       "      <td>0.0</td>\n",
       "      <td>0.0</td>\n",
       "      <td>0.0</td>\n",
       "      <td>0.0</td>\n",
       "      <td>0.0</td>\n",
       "    </tr>\n",
       "    <tr>\n",
       "      <th>307507</th>\n",
       "      <td>0</td>\n",
       "      <td>Cash loans</td>\n",
       "      <td>N</td>\n",
       "      <td>Y</td>\n",
       "      <td>0</td>\n",
       "      <td>72000.0</td>\n",
       "      <td>269550.0</td>\n",
       "      <td>12001.5</td>\n",
       "      <td>225000.0</td>\n",
       "      <td>Unaccompanied</td>\n",
       "      <td>...</td>\n",
       "      <td>1.782000e+07</td>\n",
       "      <td>0.000000e+00</td>\n",
       "      <td>0.000000e+00</td>\n",
       "      <td>0.0</td>\n",
       "      <td>0.0</td>\n",
       "      <td>0.0</td>\n",
       "      <td>-32439.0</td>\n",
       "      <td>3696.0</td>\n",
       "      <td>-231.0</td>\n",
       "      <td>0.0</td>\n",
       "    </tr>\n",
       "    <tr>\n",
       "      <th>307508</th>\n",
       "      <td>0</td>\n",
       "      <td>Cash loans</td>\n",
       "      <td>N</td>\n",
       "      <td>Y</td>\n",
       "      <td>0</td>\n",
       "      <td>153000.0</td>\n",
       "      <td>677664.0</td>\n",
       "      <td>29979.0</td>\n",
       "      <td>585000.0</td>\n",
       "      <td>Unaccompanied</td>\n",
       "      <td>...</td>\n",
       "      <td>0.000000e+00</td>\n",
       "      <td>0.000000e+00</td>\n",
       "      <td>0.000000e+00</td>\n",
       "      <td>0.0</td>\n",
       "      <td>0.0</td>\n",
       "      <td>0.0</td>\n",
       "      <td>0.0</td>\n",
       "      <td>0.0</td>\n",
       "      <td>0.0</td>\n",
       "      <td>0.0</td>\n",
       "    </tr>\n",
       "    <tr>\n",
       "      <th>307509</th>\n",
       "      <td>1</td>\n",
       "      <td>Cash loans</td>\n",
       "      <td>N</td>\n",
       "      <td>Y</td>\n",
       "      <td>0</td>\n",
       "      <td>171000.0</td>\n",
       "      <td>370107.0</td>\n",
       "      <td>20205.0</td>\n",
       "      <td>319500.0</td>\n",
       "      <td>Unaccompanied</td>\n",
       "      <td>...</td>\n",
       "      <td>1.643911e+08</td>\n",
       "      <td>2.170479e+07</td>\n",
       "      <td>1.353745e+06</td>\n",
       "      <td>0.0</td>\n",
       "      <td>0.0</td>\n",
       "      <td>0.0</td>\n",
       "      <td>-505409.0</td>\n",
       "      <td>-193.0</td>\n",
       "      <td>-120454.0</td>\n",
       "      <td>-62860.0</td>\n",
       "    </tr>\n",
       "    <tr>\n",
       "      <th>307510</th>\n",
       "      <td>0</td>\n",
       "      <td>Cash loans</td>\n",
       "      <td>N</td>\n",
       "      <td>N</td>\n",
       "      <td>0</td>\n",
       "      <td>157500.0</td>\n",
       "      <td>675000.0</td>\n",
       "      <td>49117.5</td>\n",
       "      <td>675000.0</td>\n",
       "      <td>Unaccompanied</td>\n",
       "      <td>...</td>\n",
       "      <td>0.000000e+00</td>\n",
       "      <td>0.000000e+00</td>\n",
       "      <td>0.000000e+00</td>\n",
       "      <td>0.0</td>\n",
       "      <td>0.0</td>\n",
       "      <td>0.0</td>\n",
       "      <td>0.0</td>\n",
       "      <td>0.0</td>\n",
       "      <td>0.0</td>\n",
       "      <td>0.0</td>\n",
       "    </tr>\n",
       "  </tbody>\n",
       "</table>\n",
       "<p>307511 rows × 704 columns</p>\n",
       "</div>"
      ],
      "text/plain": [
       "            TARGET NAME_CONTRACT_TYPE FLAG_OWN_CAR FLAG_OWN_REALTY  \\\n",
       "SK_ID_CURR                                                           \n",
       "0                1         Cash loans            N               Y   \n",
       "1                0         Cash loans            N               N   \n",
       "2                0    Revolving loans            Y               Y   \n",
       "3                0         Cash loans            N               Y   \n",
       "4                0         Cash loans            N               Y   \n",
       "...            ...                ...          ...             ...   \n",
       "307506           0         Cash loans            N               N   \n",
       "307507           0         Cash loans            N               Y   \n",
       "307508           0         Cash loans            N               Y   \n",
       "307509           1         Cash loans            N               Y   \n",
       "307510           0         Cash loans            N               N   \n",
       "\n",
       "            CNT_CHILDREN  AMT_INCOME_TOTAL  AMT_CREDIT  AMT_ANNUITY  \\\n",
       "SK_ID_CURR                                                            \n",
       "0                      0          202500.0    406597.5      24700.5   \n",
       "1                      0          270000.0   1293502.5      35698.5   \n",
       "2                      0           67500.0    135000.0       6750.0   \n",
       "3                      0          135000.0    312682.5      29686.5   \n",
       "4                      0          121500.0    513000.0      21865.5   \n",
       "...                  ...               ...         ...          ...   \n",
       "307506                 0          157500.0    254700.0      27558.0   \n",
       "307507                 0           72000.0    269550.0      12001.5   \n",
       "307508                 0          153000.0    677664.0      29979.0   \n",
       "307509                 0          171000.0    370107.0      20205.0   \n",
       "307510                 0          157500.0    675000.0      49117.5   \n",
       "\n",
       "            AMT_GOODS_PRICE NAME_TYPE_SUITE  ...  \\\n",
       "SK_ID_CURR                                   ...   \n",
       "0                  351000.0   Unaccompanied  ...   \n",
       "1                 1129500.0          Family  ...   \n",
       "2                  135000.0   Unaccompanied  ...   \n",
       "3                  297000.0   Unaccompanied  ...   \n",
       "4                  513000.0   Unaccompanied  ...   \n",
       "...                     ...             ...  ...   \n",
       "307506             225000.0   Unaccompanied  ...   \n",
       "307507             225000.0   Unaccompanied  ...   \n",
       "307508             585000.0   Unaccompanied  ...   \n",
       "307509             319500.0   Unaccompanied  ...   \n",
       "307510             675000.0   Unaccompanied  ...   \n",
       "\n",
       "           SUM(bureau_balance.bureau.AMT_CREDIT_SUM)  \\\n",
       "SK_ID_CURR                                             \n",
       "0                                       0.000000e+00   \n",
       "1                                       0.000000e+00   \n",
       "2                                       0.000000e+00   \n",
       "3                                       0.000000e+00   \n",
       "4                                       0.000000e+00   \n",
       "...                                              ...   \n",
       "307506                                  0.000000e+00   \n",
       "307507                                  1.782000e+07   \n",
       "307508                                  0.000000e+00   \n",
       "307509                                  1.643911e+08   \n",
       "307510                                  0.000000e+00   \n",
       "\n",
       "           SUM(bureau_balance.bureau.AMT_CREDIT_SUM_DEBT)  \\\n",
       "SK_ID_CURR                                                  \n",
       "0                                            0.000000e+00   \n",
       "1                                            0.000000e+00   \n",
       "2                                            0.000000e+00   \n",
       "3                                            0.000000e+00   \n",
       "4                                            0.000000e+00   \n",
       "...                                                   ...   \n",
       "307506                                       0.000000e+00   \n",
       "307507                                       0.000000e+00   \n",
       "307508                                       0.000000e+00   \n",
       "307509                                       2.170479e+07   \n",
       "307510                                       0.000000e+00   \n",
       "\n",
       "           SUM(bureau_balance.bureau.AMT_CREDIT_SUM_LIMIT)  \\\n",
       "SK_ID_CURR                                                   \n",
       "0                                             0.000000e+00   \n",
       "1                                             0.000000e+00   \n",
       "2                                             0.000000e+00   \n",
       "3                                             0.000000e+00   \n",
       "4                                             0.000000e+00   \n",
       "...                                                    ...   \n",
       "307506                                        0.000000e+00   \n",
       "307507                                        0.000000e+00   \n",
       "307508                                        0.000000e+00   \n",
       "307509                                        1.353745e+06   \n",
       "307510                                        0.000000e+00   \n",
       "\n",
       "           SUM(bureau_balance.bureau.AMT_CREDIT_SUM_OVERDUE)  \\\n",
       "SK_ID_CURR                                                     \n",
       "0                                                        0.0   \n",
       "1                                                        0.0   \n",
       "2                                                        0.0   \n",
       "3                                                        0.0   \n",
       "4                                                        0.0   \n",
       "...                                                      ...   \n",
       "307506                                                   0.0   \n",
       "307507                                                   0.0   \n",
       "307508                                                   0.0   \n",
       "307509                                                   0.0   \n",
       "307510                                                   0.0   \n",
       "\n",
       "            SUM(bureau_balance.bureau.CNT_CREDIT_PROLONG)  \\\n",
       "SK_ID_CURR                                                  \n",
       "0                                                     0.0   \n",
       "1                                                     0.0   \n",
       "2                                                     0.0   \n",
       "3                                                     0.0   \n",
       "4                                                     0.0   \n",
       "...                                                   ...   \n",
       "307506                                                0.0   \n",
       "307507                                                0.0   \n",
       "307508                                                0.0   \n",
       "307509                                                0.0   \n",
       "307510                                                0.0   \n",
       "\n",
       "            SUM(bureau_balance.bureau.CREDIT_DAY_OVERDUE)  \\\n",
       "SK_ID_CURR                                                  \n",
       "0                                                     0.0   \n",
       "1                                                     0.0   \n",
       "2                                                     0.0   \n",
       "3                                                     0.0   \n",
       "4                                                     0.0   \n",
       "...                                                   ...   \n",
       "307506                                                0.0   \n",
       "307507                                                0.0   \n",
       "307508                                                0.0   \n",
       "307509                                                0.0   \n",
       "307510                                                0.0   \n",
       "\n",
       "            SUM(bureau_balance.bureau.DAYS_CREDIT)  \\\n",
       "SK_ID_CURR                                           \n",
       "0                                              0.0   \n",
       "1                                              0.0   \n",
       "2                                              0.0   \n",
       "3                                              0.0   \n",
       "4                                              0.0   \n",
       "...                                            ...   \n",
       "307506                                         0.0   \n",
       "307507                                    -32439.0   \n",
       "307508                                         0.0   \n",
       "307509                                   -505409.0   \n",
       "307510                                         0.0   \n",
       "\n",
       "            SUM(bureau_balance.bureau.DAYS_CREDIT_ENDDATE)  \\\n",
       "SK_ID_CURR                                                   \n",
       "0                                                      0.0   \n",
       "1                                                      0.0   \n",
       "2                                                      0.0   \n",
       "3                                                      0.0   \n",
       "4                                                      0.0   \n",
       "...                                                    ...   \n",
       "307506                                                 0.0   \n",
       "307507                                              3696.0   \n",
       "307508                                                 0.0   \n",
       "307509                                              -193.0   \n",
       "307510                                                 0.0   \n",
       "\n",
       "            SUM(bureau_balance.bureau.DAYS_CREDIT_UPDATE)  \\\n",
       "SK_ID_CURR                                                  \n",
       "0                                                     0.0   \n",
       "1                                                     0.0   \n",
       "2                                                     0.0   \n",
       "3                                                     0.0   \n",
       "4                                                     0.0   \n",
       "...                                                   ...   \n",
       "307506                                                0.0   \n",
       "307507                                             -231.0   \n",
       "307508                                                0.0   \n",
       "307509                                          -120454.0   \n",
       "307510                                                0.0   \n",
       "\n",
       "            SUM(bureau_balance.bureau.DAYS_ENDDATE_FACT)  \n",
       "SK_ID_CURR                                                \n",
       "0                                                    0.0  \n",
       "1                                                    0.0  \n",
       "2                                                    0.0  \n",
       "3                                                    0.0  \n",
       "4                                                    0.0  \n",
       "...                                                  ...  \n",
       "307506                                               0.0  \n",
       "307507                                               0.0  \n",
       "307508                                               0.0  \n",
       "307509                                          -62860.0  \n",
       "307510                                               0.0  \n",
       "\n",
       "[307511 rows x 704 columns]"
      ]
     },
     "execution_count": 37,
     "metadata": {},
     "output_type": "execute_result"
    }
   ],
   "source": [
    "feature_matrix"
   ]
  },
  {
   "cell_type": "code",
   "execution_count": 38,
   "metadata": {},
   "outputs": [],
   "source": [
    "feature_matrix.to_csv('feature_matrix.csv',index=False)"
   ]
  },
  {
   "cell_type": "code",
   "execution_count": 39,
   "metadata": {},
   "outputs": [],
   "source": [
    "# feature_matrix=reduce_mem_usage(feature_matrix)"
   ]
  },
  {
   "cell_type": "code",
   "execution_count": 40,
   "metadata": {},
   "outputs": [
    {
     "data": {
      "text/plain": [
       "216487744"
      ]
     },
     "execution_count": 40,
     "metadata": {},
     "output_type": "execute_result"
    }
   ],
   "source": [
    "feature_matrix.isna().count().sum()"
   ]
  },
  {
   "cell_type": "code",
   "execution_count": 41,
   "metadata": {},
   "outputs": [],
   "source": [
    "from sklearn.ensemble import RandomForestClassifier"
   ]
  },
  {
   "cell_type": "code",
   "execution_count": 42,
   "metadata": {},
   "outputs": [],
   "source": [
    "# feature_matrix=dd.read_csv('feature_matrix.csv')"
   ]
  },
  {
   "cell_type": "code",
   "execution_count": 45,
   "metadata": {},
   "outputs": [],
   "source": [
    "def preprocessing(df):\n",
    "    \n",
    "    X = df.drop(['TARGET'], axis=1)\n",
    "    y = df['TARGET']\n",
    "\n",
    "    return X, y"
   ]
  },
  {
   "cell_type": "code",
   "execution_count": 98,
   "metadata": {},
   "outputs": [],
   "source": [
    "feature_matrix_copy=feature_matrix.copy()"
   ]
  },
  {
   "cell_type": "code",
   "execution_count": 99,
   "metadata": {},
   "outputs": [],
   "source": [
    "cat_feature_list=feature_matrix_copy.select_dtypes('category').columns.values"
   ]
  },
  {
   "cell_type": "code",
   "execution_count": 100,
   "metadata": {},
   "outputs": [],
   "source": [
    "for i in feature_matrix.columns.values:\n",
    "    if i not in cat_feature_list:\n",
    "        model=RobustScaler()\n",
    "        feature_matrix_copy[i]=model.fit_transform(feature_matrix_copy[[i]])\n",
    "    else :\n",
    "        model=LabelEncoder()\n",
    "        feature_matrix_copy[i]=model.fit_transform(feature_matrix_copy[[i]])\n",
    "\n",
    "\n"
   ]
  },
  {
   "cell_type": "code",
   "execution_count": 104,
   "metadata": {},
   "outputs": [],
   "source": [
    "X,y=preprocessing(feature_matrix_copy)"
   ]
  },
  {
   "cell_type": "code",
   "execution_count": 105,
   "metadata": {},
   "outputs": [],
   "source": [
    "feature_matrix_copy.fillna(0,inplace=True)"
   ]
  },
  {
   "cell_type": "code",
   "execution_count": 108,
   "metadata": {},
   "outputs": [
    {
     "data": {
      "text/plain": [
       "RandomForestClassifier()"
      ]
     },
     "execution_count": 108,
     "metadata": {},
     "output_type": "execute_result"
    }
   ],
   "source": [
    "rfc=RandomForestClassifier()\n",
    "rfc.fit(X,y)"
   ]
  },
  {
   "cell_type": "code",
   "execution_count": 109,
   "metadata": {},
   "outputs": [
    {
     "data": {
      "image/png": "[encoded data removed]",
      "text/plain": [
       "<Figure size 1080x576 with 1 Axes>"
      ]
     },
     "metadata": {
      "needs_background": "light"
     },
     "output_type": "display_data"
    }
   ],
   "source": [
    "import pandas as pd\n",
    "import matplotlib.pyplot as plt\n",
    "plt.figure(figsize=(15,8))\n",
    "feature_importance= pd.Series(rfc.feature_importances_, index=X.columns).sort_values(ascending=False).head(30)\n",
    "feature_importance.plot(kind='bar',align='edge',orientation='vertical')\n",
    "plt.show()"
   ]
  },
  {
   "cell_type": "code",
   "execution_count": 110,
   "metadata": {},
   "outputs": [
    {
     "data": {
      "text/plain": [
       "['finalized_model.sav']"
      ]
     },
     "execution_count": 110,
     "metadata": {},
     "output_type": "execute_result"
    }
   ],
   "source": [
    "# import joblib \n",
    "# filename = 'finalized_model.sav'\n",
    "# joblib.dump(rfc, filename)"
   ]
  },
  {
   "cell_type": "code",
   "execution_count": 2,
   "metadata": {},
   "outputs": [],
   "source": [
    "data=dd.read_csv('feature_matrix.csv',dtype={'MODE(bureau.CREDIT_ACTIVE)': 'object',\n",
    "       'MODE(bureau.CREDIT_CURRENCY)': 'object',\n",
    "       'MODE(bureau.CREDIT_TYPE)': 'object',\n",
    "       'MODE(bureau.MODE(bureau_balance.STATUS))': 'object',\n",
    "       'MODE(bureau_balance.STATUS)': 'object',\n",
    "       'MODE(bureau_balance.bureau.CREDIT_ACTIVE)': 'object',\n",
    "       'MODE(bureau_balance.bureau.CREDIT_CURRENCY)': 'object',\n",
    "       'MODE(bureau_balance.bureau.CREDIT_TYPE)': 'object',\n",
    "       'MODE(credit_card_balance.NAME_CONTRACT_STATUS)': 'object',\n",
    "       'MODE(pos_cash_balance.NAME_CONTRACT_STATUS)': 'object',\n",
    "       'MODE(previous_application.CHANNEL_TYPE)': 'object',\n",
    "       'MODE(previous_application.CODE_REJECT_REASON)': 'object',\n",
    "       'MODE(previous_application.FLAG_LAST_APPL_PER_CONTRACT)': 'object',\n",
    "       'MODE(previous_application.NAME_CASH_LOAN_PURPOSE)': 'object',\n",
    "       'MODE(previous_application.NAME_CLIENT_TYPE)': 'object',\n",
    "       'MODE(previous_application.NAME_CONTRACT_STATUS)': 'object',\n",
    "       'MODE(previous_application.NAME_CONTRACT_TYPE)': 'object',\n",
    "       'MODE(previous_application.NAME_GOODS_CATEGORY)': 'object',\n",
    "       'MODE(previous_application.NAME_PAYMENT_TYPE)': 'object',\n",
    "       'MODE(previous_application.NAME_PORTFOLIO)': 'object',\n",
    "       'MODE(previous_application.NAME_PRODUCT_TYPE)': 'object',\n",
    "       'MODE(previous_application.NAME_SELLER_INDUSTRY)': 'object',\n",
    "       'MODE(previous_application.NAME_TYPE_SUITE)': 'object',\n",
    "       'MODE(previous_application.NAME_YIELD_GROUP)': 'object',\n",
    "       'MODE(previous_application.PRODUCT_COMBINATION)': 'object',\n",
    "       'MODE(previous_application.WEEKDAY_APPR_PROCESS_START)': 'object'}).compute()"
   ]
  },
  {
   "cell_type": "code",
   "execution_count": 3,
   "metadata": {},
   "outputs": [
    {
     "data": {
      "text/html": [
       "<div>\n",
       "<style scoped>\n",
       "    .dataframe tbody tr th:only-of-type {\n",
       "        vertical-align: middle;\n",
       "    }\n",
       "\n",
       "    .dataframe tbody tr th {\n",
       "        vertical-align: top;\n",
       "    }\n",
       "\n",
       "    .dataframe thead th {\n",
       "        text-align: right;\n",
       "    }\n",
       "</style>\n",
       "<table border=\"1\" class=\"dataframe\">\n",
       "  <thead>\n",
       "    <tr style=\"text-align: right;\">\n",
       "      <th></th>\n",
       "      <th>TARGET</th>\n",
       "      <th>NAME_CONTRACT_TYPE</th>\n",
       "      <th>FLAG_OWN_CAR</th>\n",
       "      <th>FLAG_OWN_REALTY</th>\n",
       "      <th>CNT_CHILDREN</th>\n",
       "      <th>AMT_INCOME_TOTAL</th>\n",
       "      <th>AMT_CREDIT</th>\n",
       "      <th>AMT_ANNUITY</th>\n",
       "      <th>AMT_GOODS_PRICE</th>\n",
       "      <th>NAME_TYPE_SUITE</th>\n",
       "      <th>...</th>\n",
       "      <th>SUM(bureau_balance.bureau.AMT_CREDIT_SUM)</th>\n",
       "      <th>SUM(bureau_balance.bureau.AMT_CREDIT_SUM_DEBT)</th>\n",
       "      <th>SUM(bureau_balance.bureau.AMT_CREDIT_SUM_LIMIT)</th>\n",
       "      <th>SUM(bureau_balance.bureau.AMT_CREDIT_SUM_OVERDUE)</th>\n",
       "      <th>SUM(bureau_balance.bureau.CNT_CREDIT_PROLONG)</th>\n",
       "      <th>SUM(bureau_balance.bureau.CREDIT_DAY_OVERDUE)</th>\n",
       "      <th>SUM(bureau_balance.bureau.DAYS_CREDIT)</th>\n",
       "      <th>SUM(bureau_balance.bureau.DAYS_CREDIT_ENDDATE)</th>\n",
       "      <th>SUM(bureau_balance.bureau.DAYS_CREDIT_UPDATE)</th>\n",
       "      <th>SUM(bureau_balance.bureau.DAYS_ENDDATE_FACT)</th>\n",
       "    </tr>\n",
       "  </thead>\n",
       "  <tbody>\n",
       "    <tr>\n",
       "      <th>0</th>\n",
       "      <td>1</td>\n",
       "      <td>Cash loans</td>\n",
       "      <td>N</td>\n",
       "      <td>Y</td>\n",
       "      <td>0</td>\n",
       "      <td>202500.0</td>\n",
       "      <td>406597.5</td>\n",
       "      <td>24700.5</td>\n",
       "      <td>351000.0</td>\n",
       "      <td>Unaccompanied</td>\n",
       "      <td>...</td>\n",
       "      <td>0.000000e+00</td>\n",
       "      <td>0.000000e+00</td>\n",
       "      <td>0.000000e+00</td>\n",
       "      <td>0.0</td>\n",
       "      <td>0.0</td>\n",
       "      <td>0.0</td>\n",
       "      <td>0.0</td>\n",
       "      <td>0.0</td>\n",
       "      <td>0.0</td>\n",
       "      <td>0.0</td>\n",
       "    </tr>\n",
       "    <tr>\n",
       "      <th>1</th>\n",
       "      <td>0</td>\n",
       "      <td>Cash loans</td>\n",
       "      <td>N</td>\n",
       "      <td>N</td>\n",
       "      <td>0</td>\n",
       "      <td>270000.0</td>\n",
       "      <td>1293502.5</td>\n",
       "      <td>35698.5</td>\n",
       "      <td>1129500.0</td>\n",
       "      <td>Family</td>\n",
       "      <td>...</td>\n",
       "      <td>0.000000e+00</td>\n",
       "      <td>0.000000e+00</td>\n",
       "      <td>0.000000e+00</td>\n",
       "      <td>0.0</td>\n",
       "      <td>0.0</td>\n",
       "      <td>0.0</td>\n",
       "      <td>0.0</td>\n",
       "      <td>0.0</td>\n",
       "      <td>0.0</td>\n",
       "      <td>0.0</td>\n",
       "    </tr>\n",
       "    <tr>\n",
       "      <th>2</th>\n",
       "      <td>0</td>\n",
       "      <td>Revolving loans</td>\n",
       "      <td>Y</td>\n",
       "      <td>Y</td>\n",
       "      <td>0</td>\n",
       "      <td>67500.0</td>\n",
       "      <td>135000.0</td>\n",
       "      <td>6750.0</td>\n",
       "      <td>135000.0</td>\n",
       "      <td>Unaccompanied</td>\n",
       "      <td>...</td>\n",
       "      <td>0.000000e+00</td>\n",
       "      <td>0.000000e+00</td>\n",
       "      <td>0.000000e+00</td>\n",
       "      <td>0.0</td>\n",
       "      <td>0.0</td>\n",
       "      <td>0.0</td>\n",
       "      <td>0.0</td>\n",
       "      <td>0.0</td>\n",
       "      <td>0.0</td>\n",
       "      <td>0.0</td>\n",
       "    </tr>\n",
       "    <tr>\n",
       "      <th>3</th>\n",
       "      <td>0</td>\n",
       "      <td>Cash loans</td>\n",
       "      <td>N</td>\n",
       "      <td>Y</td>\n",
       "      <td>0</td>\n",
       "      <td>135000.0</td>\n",
       "      <td>312682.5</td>\n",
       "      <td>29686.5</td>\n",
       "      <td>297000.0</td>\n",
       "      <td>Unaccompanied</td>\n",
       "      <td>...</td>\n",
       "      <td>0.000000e+00</td>\n",
       "      <td>0.000000e+00</td>\n",
       "      <td>0.000000e+00</td>\n",
       "      <td>0.0</td>\n",
       "      <td>0.0</td>\n",
       "      <td>0.0</td>\n",
       "      <td>0.0</td>\n",
       "      <td>0.0</td>\n",
       "      <td>0.0</td>\n",
       "      <td>0.0</td>\n",
       "    </tr>\n",
       "    <tr>\n",
       "      <th>4</th>\n",
       "      <td>0</td>\n",
       "      <td>Cash loans</td>\n",
       "      <td>N</td>\n",
       "      <td>Y</td>\n",
       "      <td>0</td>\n",
       "      <td>121500.0</td>\n",
       "      <td>513000.0</td>\n",
       "      <td>21865.5</td>\n",
       "      <td>513000.0</td>\n",
       "      <td>Unaccompanied</td>\n",
       "      <td>...</td>\n",
       "      <td>0.000000e+00</td>\n",
       "      <td>0.000000e+00</td>\n",
       "      <td>0.000000e+00</td>\n",
       "      <td>0.0</td>\n",
       "      <td>0.0</td>\n",
       "      <td>0.0</td>\n",
       "      <td>0.0</td>\n",
       "      <td>0.0</td>\n",
       "      <td>0.0</td>\n",
       "      <td>0.0</td>\n",
       "    </tr>\n",
       "    <tr>\n",
       "      <th>...</th>\n",
       "      <td>...</td>\n",
       "      <td>...</td>\n",
       "      <td>...</td>\n",
       "      <td>...</td>\n",
       "      <td>...</td>\n",
       "      <td>...</td>\n",
       "      <td>...</td>\n",
       "      <td>...</td>\n",
       "      <td>...</td>\n",
       "      <td>...</td>\n",
       "      <td>...</td>\n",
       "      <td>...</td>\n",
       "      <td>...</td>\n",
       "      <td>...</td>\n",
       "      <td>...</td>\n",
       "      <td>...</td>\n",
       "      <td>...</td>\n",
       "      <td>...</td>\n",
       "      <td>...</td>\n",
       "      <td>...</td>\n",
       "      <td>...</td>\n",
       "    </tr>\n",
       "    <tr>\n",
       "      <th>15274</th>\n",
       "      <td>0</td>\n",
       "      <td>Cash loans</td>\n",
       "      <td>N</td>\n",
       "      <td>N</td>\n",
       "      <td>0</td>\n",
       "      <td>157500.0</td>\n",
       "      <td>254700.0</td>\n",
       "      <td>27558.0</td>\n",
       "      <td>225000.0</td>\n",
       "      <td>Unaccompanied</td>\n",
       "      <td>...</td>\n",
       "      <td>0.000000e+00</td>\n",
       "      <td>0.000000e+00</td>\n",
       "      <td>0.000000e+00</td>\n",
       "      <td>0.0</td>\n",
       "      <td>0.0</td>\n",
       "      <td>0.0</td>\n",
       "      <td>0.0</td>\n",
       "      <td>0.0</td>\n",
       "      <td>0.0</td>\n",
       "      <td>0.0</td>\n",
       "    </tr>\n",
       "    <tr>\n",
       "      <th>15275</th>\n",
       "      <td>0</td>\n",
       "      <td>Cash loans</td>\n",
       "      <td>N</td>\n",
       "      <td>Y</td>\n",
       "      <td>0</td>\n",
       "      <td>72000.0</td>\n",
       "      <td>269550.0</td>\n",
       "      <td>12001.5</td>\n",
       "      <td>225000.0</td>\n",
       "      <td>Unaccompanied</td>\n",
       "      <td>...</td>\n",
       "      <td>1.782000e+07</td>\n",
       "      <td>0.000000e+00</td>\n",
       "      <td>0.000000e+00</td>\n",
       "      <td>0.0</td>\n",
       "      <td>0.0</td>\n",
       "      <td>0.0</td>\n",
       "      <td>-32439.0</td>\n",
       "      <td>3696.0</td>\n",
       "      <td>-231.0</td>\n",
       "      <td>0.0</td>\n",
       "    </tr>\n",
       "    <tr>\n",
       "      <th>15276</th>\n",
       "      <td>0</td>\n",
       "      <td>Cash loans</td>\n",
       "      <td>N</td>\n",
       "      <td>Y</td>\n",
       "      <td>0</td>\n",
       "      <td>153000.0</td>\n",
       "      <td>677664.0</td>\n",
       "      <td>29979.0</td>\n",
       "      <td>585000.0</td>\n",
       "      <td>Unaccompanied</td>\n",
       "      <td>...</td>\n",
       "      <td>0.000000e+00</td>\n",
       "      <td>0.000000e+00</td>\n",
       "      <td>0.000000e+00</td>\n",
       "      <td>0.0</td>\n",
       "      <td>0.0</td>\n",
       "      <td>0.0</td>\n",
       "      <td>0.0</td>\n",
       "      <td>0.0</td>\n",
       "      <td>0.0</td>\n",
       "      <td>0.0</td>\n",
       "    </tr>\n",
       "    <tr>\n",
       "      <th>15277</th>\n",
       "      <td>1</td>\n",
       "      <td>Cash loans</td>\n",
       "      <td>N</td>\n",
       "      <td>Y</td>\n",
       "      <td>0</td>\n",
       "      <td>171000.0</td>\n",
       "      <td>370107.0</td>\n",
       "      <td>20205.0</td>\n",
       "      <td>319500.0</td>\n",
       "      <td>Unaccompanied</td>\n",
       "      <td>...</td>\n",
       "      <td>1.643911e+08</td>\n",
       "      <td>2.170479e+07</td>\n",
       "      <td>1.353745e+06</td>\n",
       "      <td>0.0</td>\n",
       "      <td>0.0</td>\n",
       "      <td>0.0</td>\n",
       "      <td>-505409.0</td>\n",
       "      <td>-193.0</td>\n",
       "      <td>-120454.0</td>\n",
       "      <td>-62860.0</td>\n",
       "    </tr>\n",
       "    <tr>\n",
       "      <th>15278</th>\n",
       "      <td>0</td>\n",
       "      <td>Cash loans</td>\n",
       "      <td>N</td>\n",
       "      <td>N</td>\n",
       "      <td>0</td>\n",
       "      <td>157500.0</td>\n",
       "      <td>675000.0</td>\n",
       "      <td>49117.5</td>\n",
       "      <td>675000.0</td>\n",
       "      <td>Unaccompanied</td>\n",
       "      <td>...</td>\n",
       "      <td>0.000000e+00</td>\n",
       "      <td>0.000000e+00</td>\n",
       "      <td>0.000000e+00</td>\n",
       "      <td>0.0</td>\n",
       "      <td>0.0</td>\n",
       "      <td>0.0</td>\n",
       "      <td>0.0</td>\n",
       "      <td>0.0</td>\n",
       "      <td>0.0</td>\n",
       "      <td>0.0</td>\n",
       "    </tr>\n",
       "  </tbody>\n",
       "</table>\n",
       "<p>307511 rows × 704 columns</p>\n",
       "</div>"
      ],
      "text/plain": [
       "       TARGET NAME_CONTRACT_TYPE FLAG_OWN_CAR FLAG_OWN_REALTY  CNT_CHILDREN  \\\n",
       "0           1         Cash loans            N               Y             0   \n",
       "1           0         Cash loans            N               N             0   \n",
       "2           0    Revolving loans            Y               Y             0   \n",
       "3           0         Cash loans            N               Y             0   \n",
       "4           0         Cash loans            N               Y             0   \n",
       "...       ...                ...          ...             ...           ...   \n",
       "15274       0         Cash loans            N               N             0   \n",
       "15275       0         Cash loans            N               Y             0   \n",
       "15276       0         Cash loans            N               Y             0   \n",
       "15277       1         Cash loans            N               Y             0   \n",
       "15278       0         Cash loans            N               N             0   \n",
       "\n",
       "       AMT_INCOME_TOTAL  AMT_CREDIT  AMT_ANNUITY  AMT_GOODS_PRICE  \\\n",
       "0              202500.0    406597.5      24700.5         351000.0   \n",
       "1              270000.0   1293502.5      35698.5        1129500.0   \n",
       "2               67500.0    135000.0       6750.0         135000.0   \n",
       "3              135000.0    312682.5      29686.5         297000.0   \n",
       "4              121500.0    513000.0      21865.5         513000.0   \n",
       "...                 ...         ...          ...              ...   \n",
       "15274          157500.0    254700.0      27558.0         225000.0   \n",
       "15275           72000.0    269550.0      12001.5         225000.0   \n",
       "15276          153000.0    677664.0      29979.0         585000.0   \n",
       "15277          171000.0    370107.0      20205.0         319500.0   \n",
       "15278          157500.0    675000.0      49117.5         675000.0   \n",
       "\n",
       "      NAME_TYPE_SUITE  ... SUM(bureau_balance.bureau.AMT_CREDIT_SUM)  \\\n",
       "0       Unaccompanied  ...                              0.000000e+00   \n",
       "1              Family  ...                              0.000000e+00   \n",
       "2       Unaccompanied  ...                              0.000000e+00   \n",
       "3       Unaccompanied  ...                              0.000000e+00   \n",
       "4       Unaccompanied  ...                              0.000000e+00   \n",
       "...               ...  ...                                       ...   \n",
       "15274   Unaccompanied  ...                              0.000000e+00   \n",
       "15275   Unaccompanied  ...                              1.782000e+07   \n",
       "15276   Unaccompanied  ...                              0.000000e+00   \n",
       "15277   Unaccompanied  ...                              1.643911e+08   \n",
       "15278   Unaccompanied  ...                              0.000000e+00   \n",
       "\n",
       "      SUM(bureau_balance.bureau.AMT_CREDIT_SUM_DEBT)  \\\n",
       "0                                       0.000000e+00   \n",
       "1                                       0.000000e+00   \n",
       "2                                       0.000000e+00   \n",
       "3                                       0.000000e+00   \n",
       "4                                       0.000000e+00   \n",
       "...                                              ...   \n",
       "15274                                   0.000000e+00   \n",
       "15275                                   0.000000e+00   \n",
       "15276                                   0.000000e+00   \n",
       "15277                                   2.170479e+07   \n",
       "15278                                   0.000000e+00   \n",
       "\n",
       "      SUM(bureau_balance.bureau.AMT_CREDIT_SUM_LIMIT)  \\\n",
       "0                                        0.000000e+00   \n",
       "1                                        0.000000e+00   \n",
       "2                                        0.000000e+00   \n",
       "3                                        0.000000e+00   \n",
       "4                                        0.000000e+00   \n",
       "...                                               ...   \n",
       "15274                                    0.000000e+00   \n",
       "15275                                    0.000000e+00   \n",
       "15276                                    0.000000e+00   \n",
       "15277                                    1.353745e+06   \n",
       "15278                                    0.000000e+00   \n",
       "\n",
       "      SUM(bureau_balance.bureau.AMT_CREDIT_SUM_OVERDUE)  \\\n",
       "0                                                   0.0   \n",
       "1                                                   0.0   \n",
       "2                                                   0.0   \n",
       "3                                                   0.0   \n",
       "4                                                   0.0   \n",
       "...                                                 ...   \n",
       "15274                                               0.0   \n",
       "15275                                               0.0   \n",
       "15276                                               0.0   \n",
       "15277                                               0.0   \n",
       "15278                                               0.0   \n",
       "\n",
       "       SUM(bureau_balance.bureau.CNT_CREDIT_PROLONG)  \\\n",
       "0                                                0.0   \n",
       "1                                                0.0   \n",
       "2                                                0.0   \n",
       "3                                                0.0   \n",
       "4                                                0.0   \n",
       "...                                              ...   \n",
       "15274                                            0.0   \n",
       "15275                                            0.0   \n",
       "15276                                            0.0   \n",
       "15277                                            0.0   \n",
       "15278                                            0.0   \n",
       "\n",
       "       SUM(bureau_balance.bureau.CREDIT_DAY_OVERDUE)  \\\n",
       "0                                                0.0   \n",
       "1                                                0.0   \n",
       "2                                                0.0   \n",
       "3                                                0.0   \n",
       "4                                                0.0   \n",
       "...                                              ...   \n",
       "15274                                            0.0   \n",
       "15275                                            0.0   \n",
       "15276                                            0.0   \n",
       "15277                                            0.0   \n",
       "15278                                            0.0   \n",
       "\n",
       "       SUM(bureau_balance.bureau.DAYS_CREDIT)  \\\n",
       "0                                         0.0   \n",
       "1                                         0.0   \n",
       "2                                         0.0   \n",
       "3                                         0.0   \n",
       "4                                         0.0   \n",
       "...                                       ...   \n",
       "15274                                     0.0   \n",
       "15275                                -32439.0   \n",
       "15276                                     0.0   \n",
       "15277                               -505409.0   \n",
       "15278                                     0.0   \n",
       "\n",
       "       SUM(bureau_balance.bureau.DAYS_CREDIT_ENDDATE)  \\\n",
       "0                                                 0.0   \n",
       "1                                                 0.0   \n",
       "2                                                 0.0   \n",
       "3                                                 0.0   \n",
       "4                                                 0.0   \n",
       "...                                               ...   \n",
       "15274                                             0.0   \n",
       "15275                                          3696.0   \n",
       "15276                                             0.0   \n",
       "15277                                          -193.0   \n",
       "15278                                             0.0   \n",
       "\n",
       "       SUM(bureau_balance.bureau.DAYS_CREDIT_UPDATE)  \\\n",
       "0                                                0.0   \n",
       "1                                                0.0   \n",
       "2                                                0.0   \n",
       "3                                                0.0   \n",
       "4                                                0.0   \n",
       "...                                              ...   \n",
       "15274                                            0.0   \n",
       "15275                                         -231.0   \n",
       "15276                                            0.0   \n",
       "15277                                      -120454.0   \n",
       "15278                                            0.0   \n",
       "\n",
       "       SUM(bureau_balance.bureau.DAYS_ENDDATE_FACT)  \n",
       "0                                               0.0  \n",
       "1                                               0.0  \n",
       "2                                               0.0  \n",
       "3                                               0.0  \n",
       "4                                               0.0  \n",
       "...                                             ...  \n",
       "15274                                           0.0  \n",
       "15275                                           0.0  \n",
       "15276                                           0.0  \n",
       "15277                                      -62860.0  \n",
       "15278                                           0.0  \n",
       "\n",
       "[307511 rows x 704 columns]"
      ]
     },
     "execution_count": 3,
     "metadata": {},
     "output_type": "execute_result"
    }
   ],
   "source": [
    "data"
   ]
  },
  {
   "cell_type": "code",
   "execution_count": 3,
   "metadata": {},
   "outputs": [],
   "source": [
    "cor_matrix = data.corr().abs()\n",
    "upper_tri = cor_matrix.where(np.triu(np.ones(cor_matrix.shape),k=1).astype(np.bool))\n",
    "to_drop = [column for column in upper_tri.columns if any(upper_tri[column] > 0.95)]\n",
    "data.drop(to_drop,axis=1,inplace=True)"
   ]
  },
  {
   "cell_type": "code",
   "execution_count": 4,
   "metadata": {},
   "outputs": [
    {
     "data": {
      "text/plain": [
       "(307511, 489)"
      ]
     },
     "execution_count": 4,
     "metadata": {},
     "output_type": "execute_result"
    }
   ],
   "source": [
    "data.shape"
   ]
  },
  {
   "cell_type": "code",
   "execution_count": 5,
   "metadata": {},
   "outputs": [],
   "source": [
    "data.to_csv('feature_matrix1.csv',index=False)"
   ]
  },
  {
   "cell_type": "code",
   "execution_count": 86,
   "metadata": {},
   "outputs": [],
   "source": [
    "data=dd.read_csv('feature_matrix1.csv',dtype={'MODE(bureau.CREDIT_ACTIVE)': 'object',\n",
    "       'MODE(bureau.CREDIT_CURRENCY)': 'object',\n",
    "       'MODE(bureau.CREDIT_TYPE)': 'object',\n",
    "       'MODE(bureau.MODE(bureau_balance.STATUS))': 'object',\n",
    "       'MODE(bureau_balance.STATUS)': 'object',\n",
    "       'MODE(bureau_balance.bureau.CREDIT_ACTIVE)': 'object',\n",
    "       'MODE(bureau_balance.bureau.CREDIT_CURRENCY)': 'object',\n",
    "       'MODE(bureau_balance.bureau.CREDIT_TYPE)': 'object',\n",
    "       'MODE(credit_card_balance.NAME_CONTRACT_STATUS)': 'object',\n",
    "       'MODE(pos_cash_balance.NAME_CONTRACT_STATUS)': 'object',\n",
    "       'MODE(previous_application.CHANNEL_TYPE)': 'object',\n",
    "       'MODE(previous_application.CODE_REJECT_REASON)': 'object',\n",
    "       'MODE(previous_application.FLAG_LAST_APPL_PER_CONTRACT)': 'object',\n",
    "       'MODE(previous_application.NAME_CASH_LOAN_PURPOSE)': 'object',\n",
    "       'MODE(previous_application.NAME_CLIENT_TYPE)': 'object',\n",
    "       'MODE(previous_application.NAME_CONTRACT_STATUS)': 'object',\n",
    "       'MODE(previous_application.NAME_CONTRACT_TYPE)': 'object',\n",
    "       'MODE(previous_application.NAME_GOODS_CATEGORY)': 'object',\n",
    "       'MODE(previous_application.NAME_PAYMENT_TYPE)': 'object',\n",
    "       'MODE(previous_application.NAME_PORTFOLIO)': 'object',\n",
    "       'MODE(previous_application.NAME_PRODUCT_TYPE)': 'object',\n",
    "       'MODE(previous_application.NAME_SELLER_INDUSTRY)': 'object',\n",
    "       'MODE(previous_application.NAME_TYPE_SUITE)': 'object',\n",
    "       'MODE(previous_application.NAME_YIELD_GROUP)': 'object',\n",
    "       'MODE(previous_application.PRODUCT_COMBINATION)': 'object',\n",
    "       'MODE(previous_application.WEEKDAY_APPR_PROCESS_START)': 'object'}).compute()"
   ]
  },
  {
   "cell_type": "code",
   "execution_count": 87,
   "metadata": {},
   "outputs": [],
   "source": [
    "categorical=data.select_dtypes('O').columns.values"
   ]
  },
  {
   "cell_type": "code",
   "execution_count": 88,
   "metadata": {},
   "outputs": [],
   "source": [
    "numeric=list(data.select_dtypes('int64').columns.values)+list(data.select_dtypes('float64').columns.values)"
   ]
  }
 ],
 "metadata": {
  "kernelspec": {
   "display_name": "Python 3.9.9 64-bit",
   "language": "python",
   "name": "python3"
  },
  "language_info": {
   "codemirror_mode": {
    "name": "ipython",
    "version": 3
   },
   "file_extension": ".py",
   "mimetype": "text/x-python",
   "name": "python",
   "nbconvert_exporter": "python",
   "pygments_lexer": "ipython3",
   "version": "3.9.9"
  },
  "orig_nbformat": 4,
  "vscode": {
   "interpreter": {
    "hash": "4967e6ae66cdbca97a956efb29231a0cc91c8b76a2ce84b79640903ac8236afa"
   }
  }
 },
 "nbformat": 4,
 "nbformat_minor": 2
}
